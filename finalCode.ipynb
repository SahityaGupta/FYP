{
  "nbformat": 4,
  "nbformat_minor": 0,
  "metadata": {
    "colab": {
      "provenance": []
    },
    "kernelspec": {
      "name": "python3",
      "display_name": "Python 3"
    },
    "language_info": {
      "name": "python"
    },
    "accelerator": "GPU",
    "gpuClass": "standard"
  },
  "cells": [
    {
      "cell_type": "code",
      "execution_count": 1,
      "metadata": {
        "colab": {
          "base_uri": "https://localhost:8080/"
        },
        "id": "XtDYNupSQjRB",
        "outputId": "329e2efb-d543-4de2-9a26-3ea7dba11ac6"
      },
      "outputs": [
        {
          "output_type": "stream",
          "name": "stdout",
          "text": [
            "--2023-10-28 18:32:27--  https://thedaytimestories.ml/file_name.csv\n",
            "Resolving thedaytimestories.ml (thedaytimestories.ml)... failed: Name or service not known.\n",
            "wget: unable to resolve host address ‘thedaytimestories.ml’\n"
          ]
        }
      ],
      "source": [
        "!wget https://thedaytimestories.ml/file_name.csv"
      ]
    },
    {
      "cell_type": "markdown",
      "source": [
        "Checking parameters and features"
      ],
      "metadata": {
        "id": "Vins-aQMhB0w"
      }
    },
    {
      "cell_type": "code",
      "source": [
        "import numpy as np"
      ],
      "metadata": {
        "id": "WpXtTRxdhJDy"
      },
      "execution_count": 2,
      "outputs": []
    },
    {
      "cell_type": "code",
      "source": [
        "import pandas as pd\n",
        "# Read the CSV file into a Pandas DataFrame\n",
        "df = pd.read_csv(\"file_name.csv\")"
      ],
      "metadata": {
        "id": "R43vaOxfSoWp",
        "colab": {
          "base_uri": "https://localhost:8080/",
          "height": 381
        },
        "outputId": "df906683-5bee-4fdc-c3c4-45bdca58dd08"
      },
      "execution_count": 3,
      "outputs": [
        {
          "output_type": "error",
          "ename": "FileNotFoundError",
          "evalue": "ignored",
          "traceback": [
            "\u001b[0;31m---------------------------------------------------------------------------\u001b[0m",
            "\u001b[0;31mFileNotFoundError\u001b[0m                         Traceback (most recent call last)",
            "\u001b[0;32m<ipython-input-3-71ce6c4a11b0>\u001b[0m in \u001b[0;36m<cell line: 3>\u001b[0;34m()\u001b[0m\n\u001b[1;32m      1\u001b[0m \u001b[0;32mimport\u001b[0m \u001b[0mpandas\u001b[0m \u001b[0;32mas\u001b[0m \u001b[0mpd\u001b[0m\u001b[0;34m\u001b[0m\u001b[0;34m\u001b[0m\u001b[0m\n\u001b[1;32m      2\u001b[0m \u001b[0;31m# Read the CSV file into a Pandas DataFrame\u001b[0m\u001b[0;34m\u001b[0m\u001b[0;34m\u001b[0m\u001b[0m\n\u001b[0;32m----> 3\u001b[0;31m \u001b[0mdf\u001b[0m \u001b[0;34m=\u001b[0m \u001b[0mpd\u001b[0m\u001b[0;34m.\u001b[0m\u001b[0mread_csv\u001b[0m\u001b[0;34m(\u001b[0m\u001b[0;34m\"file_name.csv\"\u001b[0m\u001b[0;34m)\u001b[0m\u001b[0;34m\u001b[0m\u001b[0;34m\u001b[0m\u001b[0m\n\u001b[0m",
            "\u001b[0;32m/usr/local/lib/python3.10/dist-packages/pandas/util/_decorators.py\u001b[0m in \u001b[0;36mwrapper\u001b[0;34m(*args, **kwargs)\u001b[0m\n\u001b[1;32m    209\u001b[0m                 \u001b[0;32melse\u001b[0m\u001b[0;34m:\u001b[0m\u001b[0;34m\u001b[0m\u001b[0;34m\u001b[0m\u001b[0m\n\u001b[1;32m    210\u001b[0m                     \u001b[0mkwargs\u001b[0m\u001b[0;34m[\u001b[0m\u001b[0mnew_arg_name\u001b[0m\u001b[0;34m]\u001b[0m \u001b[0;34m=\u001b[0m \u001b[0mnew_arg_value\u001b[0m\u001b[0;34m\u001b[0m\u001b[0;34m\u001b[0m\u001b[0m\n\u001b[0;32m--> 211\u001b[0;31m             \u001b[0;32mreturn\u001b[0m \u001b[0mfunc\u001b[0m\u001b[0;34m(\u001b[0m\u001b[0;34m*\u001b[0m\u001b[0margs\u001b[0m\u001b[0;34m,\u001b[0m \u001b[0;34m**\u001b[0m\u001b[0mkwargs\u001b[0m\u001b[0;34m)\u001b[0m\u001b[0;34m\u001b[0m\u001b[0;34m\u001b[0m\u001b[0m\n\u001b[0m\u001b[1;32m    212\u001b[0m \u001b[0;34m\u001b[0m\u001b[0m\n\u001b[1;32m    213\u001b[0m         \u001b[0;32mreturn\u001b[0m \u001b[0mcast\u001b[0m\u001b[0;34m(\u001b[0m\u001b[0mF\u001b[0m\u001b[0;34m,\u001b[0m \u001b[0mwrapper\u001b[0m\u001b[0;34m)\u001b[0m\u001b[0;34m\u001b[0m\u001b[0;34m\u001b[0m\u001b[0m\n",
            "\u001b[0;32m/usr/local/lib/python3.10/dist-packages/pandas/util/_decorators.py\u001b[0m in \u001b[0;36mwrapper\u001b[0;34m(*args, **kwargs)\u001b[0m\n\u001b[1;32m    329\u001b[0m                     \u001b[0mstacklevel\u001b[0m\u001b[0;34m=\u001b[0m\u001b[0mfind_stack_level\u001b[0m\u001b[0;34m(\u001b[0m\u001b[0;34m)\u001b[0m\u001b[0;34m,\u001b[0m\u001b[0;34m\u001b[0m\u001b[0;34m\u001b[0m\u001b[0m\n\u001b[1;32m    330\u001b[0m                 )\n\u001b[0;32m--> 331\u001b[0;31m             \u001b[0;32mreturn\u001b[0m \u001b[0mfunc\u001b[0m\u001b[0;34m(\u001b[0m\u001b[0;34m*\u001b[0m\u001b[0margs\u001b[0m\u001b[0;34m,\u001b[0m \u001b[0;34m**\u001b[0m\u001b[0mkwargs\u001b[0m\u001b[0;34m)\u001b[0m\u001b[0;34m\u001b[0m\u001b[0;34m\u001b[0m\u001b[0m\n\u001b[0m\u001b[1;32m    332\u001b[0m \u001b[0;34m\u001b[0m\u001b[0m\n\u001b[1;32m    333\u001b[0m         \u001b[0;31m# error: \"Callable[[VarArg(Any), KwArg(Any)], Any]\" has no\u001b[0m\u001b[0;34m\u001b[0m\u001b[0;34m\u001b[0m\u001b[0m\n",
            "\u001b[0;32m/usr/local/lib/python3.10/dist-packages/pandas/io/parsers/readers.py\u001b[0m in \u001b[0;36mread_csv\u001b[0;34m(filepath_or_buffer, sep, delimiter, header, names, index_col, usecols, squeeze, prefix, mangle_dupe_cols, dtype, engine, converters, true_values, false_values, skipinitialspace, skiprows, skipfooter, nrows, na_values, keep_default_na, na_filter, verbose, skip_blank_lines, parse_dates, infer_datetime_format, keep_date_col, date_parser, dayfirst, cache_dates, iterator, chunksize, compression, thousands, decimal, lineterminator, quotechar, quoting, doublequote, escapechar, comment, encoding, encoding_errors, dialect, error_bad_lines, warn_bad_lines, on_bad_lines, delim_whitespace, low_memory, memory_map, float_precision, storage_options)\u001b[0m\n\u001b[1;32m    948\u001b[0m     \u001b[0mkwds\u001b[0m\u001b[0;34m.\u001b[0m\u001b[0mupdate\u001b[0m\u001b[0;34m(\u001b[0m\u001b[0mkwds_defaults\u001b[0m\u001b[0;34m)\u001b[0m\u001b[0;34m\u001b[0m\u001b[0;34m\u001b[0m\u001b[0m\n\u001b[1;32m    949\u001b[0m \u001b[0;34m\u001b[0m\u001b[0m\n\u001b[0;32m--> 950\u001b[0;31m     \u001b[0;32mreturn\u001b[0m \u001b[0m_read\u001b[0m\u001b[0;34m(\u001b[0m\u001b[0mfilepath_or_buffer\u001b[0m\u001b[0;34m,\u001b[0m \u001b[0mkwds\u001b[0m\u001b[0;34m)\u001b[0m\u001b[0;34m\u001b[0m\u001b[0;34m\u001b[0m\u001b[0m\n\u001b[0m\u001b[1;32m    951\u001b[0m \u001b[0;34m\u001b[0m\u001b[0m\n\u001b[1;32m    952\u001b[0m \u001b[0;34m\u001b[0m\u001b[0m\n",
            "\u001b[0;32m/usr/local/lib/python3.10/dist-packages/pandas/io/parsers/readers.py\u001b[0m in \u001b[0;36m_read\u001b[0;34m(filepath_or_buffer, kwds)\u001b[0m\n\u001b[1;32m    603\u001b[0m \u001b[0;34m\u001b[0m\u001b[0m\n\u001b[1;32m    604\u001b[0m     \u001b[0;31m# Create the parser.\u001b[0m\u001b[0;34m\u001b[0m\u001b[0;34m\u001b[0m\u001b[0m\n\u001b[0;32m--> 605\u001b[0;31m     \u001b[0mparser\u001b[0m \u001b[0;34m=\u001b[0m \u001b[0mTextFileReader\u001b[0m\u001b[0;34m(\u001b[0m\u001b[0mfilepath_or_buffer\u001b[0m\u001b[0;34m,\u001b[0m \u001b[0;34m**\u001b[0m\u001b[0mkwds\u001b[0m\u001b[0;34m)\u001b[0m\u001b[0;34m\u001b[0m\u001b[0;34m\u001b[0m\u001b[0m\n\u001b[0m\u001b[1;32m    606\u001b[0m \u001b[0;34m\u001b[0m\u001b[0m\n\u001b[1;32m    607\u001b[0m     \u001b[0;32mif\u001b[0m \u001b[0mchunksize\u001b[0m \u001b[0;32mor\u001b[0m \u001b[0miterator\u001b[0m\u001b[0;34m:\u001b[0m\u001b[0;34m\u001b[0m\u001b[0;34m\u001b[0m\u001b[0m\n",
            "\u001b[0;32m/usr/local/lib/python3.10/dist-packages/pandas/io/parsers/readers.py\u001b[0m in \u001b[0;36m__init__\u001b[0;34m(self, f, engine, **kwds)\u001b[0m\n\u001b[1;32m   1440\u001b[0m \u001b[0;34m\u001b[0m\u001b[0m\n\u001b[1;32m   1441\u001b[0m         \u001b[0mself\u001b[0m\u001b[0;34m.\u001b[0m\u001b[0mhandles\u001b[0m\u001b[0;34m:\u001b[0m \u001b[0mIOHandles\u001b[0m \u001b[0;34m|\u001b[0m \u001b[0;32mNone\u001b[0m \u001b[0;34m=\u001b[0m \u001b[0;32mNone\u001b[0m\u001b[0;34m\u001b[0m\u001b[0;34m\u001b[0m\u001b[0m\n\u001b[0;32m-> 1442\u001b[0;31m         \u001b[0mself\u001b[0m\u001b[0;34m.\u001b[0m\u001b[0m_engine\u001b[0m \u001b[0;34m=\u001b[0m \u001b[0mself\u001b[0m\u001b[0;34m.\u001b[0m\u001b[0m_make_engine\u001b[0m\u001b[0;34m(\u001b[0m\u001b[0mf\u001b[0m\u001b[0;34m,\u001b[0m \u001b[0mself\u001b[0m\u001b[0;34m.\u001b[0m\u001b[0mengine\u001b[0m\u001b[0;34m)\u001b[0m\u001b[0;34m\u001b[0m\u001b[0;34m\u001b[0m\u001b[0m\n\u001b[0m\u001b[1;32m   1443\u001b[0m \u001b[0;34m\u001b[0m\u001b[0m\n\u001b[1;32m   1444\u001b[0m     \u001b[0;32mdef\u001b[0m \u001b[0mclose\u001b[0m\u001b[0;34m(\u001b[0m\u001b[0mself\u001b[0m\u001b[0;34m)\u001b[0m \u001b[0;34m->\u001b[0m \u001b[0;32mNone\u001b[0m\u001b[0;34m:\u001b[0m\u001b[0;34m\u001b[0m\u001b[0;34m\u001b[0m\u001b[0m\n",
            "\u001b[0;32m/usr/local/lib/python3.10/dist-packages/pandas/io/parsers/readers.py\u001b[0m in \u001b[0;36m_make_engine\u001b[0;34m(self, f, engine)\u001b[0m\n\u001b[1;32m   1733\u001b[0m                 \u001b[0;32mif\u001b[0m \u001b[0;34m\"b\"\u001b[0m \u001b[0;32mnot\u001b[0m \u001b[0;32min\u001b[0m \u001b[0mmode\u001b[0m\u001b[0;34m:\u001b[0m\u001b[0;34m\u001b[0m\u001b[0;34m\u001b[0m\u001b[0m\n\u001b[1;32m   1734\u001b[0m                     \u001b[0mmode\u001b[0m \u001b[0;34m+=\u001b[0m \u001b[0;34m\"b\"\u001b[0m\u001b[0;34m\u001b[0m\u001b[0;34m\u001b[0m\u001b[0m\n\u001b[0;32m-> 1735\u001b[0;31m             self.handles = get_handle(\n\u001b[0m\u001b[1;32m   1736\u001b[0m                 \u001b[0mf\u001b[0m\u001b[0;34m,\u001b[0m\u001b[0;34m\u001b[0m\u001b[0;34m\u001b[0m\u001b[0m\n\u001b[1;32m   1737\u001b[0m                 \u001b[0mmode\u001b[0m\u001b[0;34m,\u001b[0m\u001b[0;34m\u001b[0m\u001b[0;34m\u001b[0m\u001b[0m\n",
            "\u001b[0;32m/usr/local/lib/python3.10/dist-packages/pandas/io/common.py\u001b[0m in \u001b[0;36mget_handle\u001b[0;34m(path_or_buf, mode, encoding, compression, memory_map, is_text, errors, storage_options)\u001b[0m\n\u001b[1;32m    854\u001b[0m         \u001b[0;32mif\u001b[0m \u001b[0mioargs\u001b[0m\u001b[0;34m.\u001b[0m\u001b[0mencoding\u001b[0m \u001b[0;32mand\u001b[0m \u001b[0;34m\"b\"\u001b[0m \u001b[0;32mnot\u001b[0m \u001b[0;32min\u001b[0m \u001b[0mioargs\u001b[0m\u001b[0;34m.\u001b[0m\u001b[0mmode\u001b[0m\u001b[0;34m:\u001b[0m\u001b[0;34m\u001b[0m\u001b[0;34m\u001b[0m\u001b[0m\n\u001b[1;32m    855\u001b[0m             \u001b[0;31m# Encoding\u001b[0m\u001b[0;34m\u001b[0m\u001b[0;34m\u001b[0m\u001b[0m\n\u001b[0;32m--> 856\u001b[0;31m             handle = open(\n\u001b[0m\u001b[1;32m    857\u001b[0m                 \u001b[0mhandle\u001b[0m\u001b[0;34m,\u001b[0m\u001b[0;34m\u001b[0m\u001b[0;34m\u001b[0m\u001b[0m\n\u001b[1;32m    858\u001b[0m                 \u001b[0mioargs\u001b[0m\u001b[0;34m.\u001b[0m\u001b[0mmode\u001b[0m\u001b[0;34m,\u001b[0m\u001b[0;34m\u001b[0m\u001b[0;34m\u001b[0m\u001b[0m\n",
            "\u001b[0;31mFileNotFoundError\u001b[0m: [Errno 2] No such file or directory: 'file_name.csv'"
          ]
        }
      ]
    },
    {
      "cell_type": "code",
      "source": [
        "df"
      ],
      "metadata": {
        "colab": {
          "base_uri": "https://localhost:8080/",
          "height": 424
        },
        "id": "DOejpqvpSu4A",
        "outputId": "dfe7ee34-eee9-4714-bae9-ac1150d9e84a"
      },
      "execution_count": null,
      "outputs": [
        {
          "output_type": "execute_result",
          "data": {
            "text/plain": [
              "       Unnamed: 0                  timestamp  P_mpp_original      P_pv  \\\n",
              "0               0  2021-10-31 23:45:00+04:00             0.0 -0.017111   \n",
              "1               1  2021-11-01 00:00:00+04:00             0.0 -0.018108   \n",
              "2               2  2021-11-01 00:15:00+04:00             0.0 -0.017899   \n",
              "3               3  2021-11-01 00:30:00+04:00             0.0 -0.018027   \n",
              "4               4  2021-11-01 00:45:00+04:00             0.0 -0.020167   \n",
              "...           ...                        ...             ...       ...   \n",
              "35036       35036  2022-10-31 22:45:00+04:00             0.0  0.021160   \n",
              "35037       35037  2022-10-31 23:00:00+04:00             0.0  0.018419   \n",
              "35038       35038  2022-10-31 23:15:00+04:00             0.0  0.014192   \n",
              "35039       35039  2022-10-31 23:30:00+04:00             0.0  0.014657   \n",
              "35040       35040  2022-10-31 23:45:00+04:00             0.0  0.011774   \n",
              "\n",
              "       P_pv_setpoint  ghi       temp  dispo_pv  \n",
              "0             247.16  0.0  20.000000       100  \n",
              "1             247.16  0.0  20.000000       100  \n",
              "2             247.16  0.0  20.000000       100  \n",
              "3             247.16  0.0  19.261574       100  \n",
              "4             247.16  0.0  19.977593       100  \n",
              "...              ...  ...        ...       ...  \n",
              "35036         247.16  0.0  20.023056       100  \n",
              "35037         247.16  0.0  20.292870       100  \n",
              "35038         247.16  0.0  20.305278       100  \n",
              "35039         247.16  0.0  20.251481       100  \n",
              "35040         247.16  0.0  20.087778       100  \n",
              "\n",
              "[35041 rows x 8 columns]"
            ],
            "text/html": [
              "\n",
              "  <div id=\"df-8abcddec-e0ec-40c2-8030-5cf98d209da4\">\n",
              "    <div class=\"colab-df-container\">\n",
              "      <div>\n",
              "<style scoped>\n",
              "    .dataframe tbody tr th:only-of-type {\n",
              "        vertical-align: middle;\n",
              "    }\n",
              "\n",
              "    .dataframe tbody tr th {\n",
              "        vertical-align: top;\n",
              "    }\n",
              "\n",
              "    .dataframe thead th {\n",
              "        text-align: right;\n",
              "    }\n",
              "</style>\n",
              "<table border=\"1\" class=\"dataframe\">\n",
              "  <thead>\n",
              "    <tr style=\"text-align: right;\">\n",
              "      <th></th>\n",
              "      <th>Unnamed: 0</th>\n",
              "      <th>timestamp</th>\n",
              "      <th>P_mpp_original</th>\n",
              "      <th>P_pv</th>\n",
              "      <th>P_pv_setpoint</th>\n",
              "      <th>ghi</th>\n",
              "      <th>temp</th>\n",
              "      <th>dispo_pv</th>\n",
              "    </tr>\n",
              "  </thead>\n",
              "  <tbody>\n",
              "    <tr>\n",
              "      <th>0</th>\n",
              "      <td>0</td>\n",
              "      <td>2021-10-31 23:45:00+04:00</td>\n",
              "      <td>0.0</td>\n",
              "      <td>-0.017111</td>\n",
              "      <td>247.16</td>\n",
              "      <td>0.0</td>\n",
              "      <td>20.000000</td>\n",
              "      <td>100</td>\n",
              "    </tr>\n",
              "    <tr>\n",
              "      <th>1</th>\n",
              "      <td>1</td>\n",
              "      <td>2021-11-01 00:00:00+04:00</td>\n",
              "      <td>0.0</td>\n",
              "      <td>-0.018108</td>\n",
              "      <td>247.16</td>\n",
              "      <td>0.0</td>\n",
              "      <td>20.000000</td>\n",
              "      <td>100</td>\n",
              "    </tr>\n",
              "    <tr>\n",
              "      <th>2</th>\n",
              "      <td>2</td>\n",
              "      <td>2021-11-01 00:15:00+04:00</td>\n",
              "      <td>0.0</td>\n",
              "      <td>-0.017899</td>\n",
              "      <td>247.16</td>\n",
              "      <td>0.0</td>\n",
              "      <td>20.000000</td>\n",
              "      <td>100</td>\n",
              "    </tr>\n",
              "    <tr>\n",
              "      <th>3</th>\n",
              "      <td>3</td>\n",
              "      <td>2021-11-01 00:30:00+04:00</td>\n",
              "      <td>0.0</td>\n",
              "      <td>-0.018027</td>\n",
              "      <td>247.16</td>\n",
              "      <td>0.0</td>\n",
              "      <td>19.261574</td>\n",
              "      <td>100</td>\n",
              "    </tr>\n",
              "    <tr>\n",
              "      <th>4</th>\n",
              "      <td>4</td>\n",
              "      <td>2021-11-01 00:45:00+04:00</td>\n",
              "      <td>0.0</td>\n",
              "      <td>-0.020167</td>\n",
              "      <td>247.16</td>\n",
              "      <td>0.0</td>\n",
              "      <td>19.977593</td>\n",
              "      <td>100</td>\n",
              "    </tr>\n",
              "    <tr>\n",
              "      <th>...</th>\n",
              "      <td>...</td>\n",
              "      <td>...</td>\n",
              "      <td>...</td>\n",
              "      <td>...</td>\n",
              "      <td>...</td>\n",
              "      <td>...</td>\n",
              "      <td>...</td>\n",
              "      <td>...</td>\n",
              "    </tr>\n",
              "    <tr>\n",
              "      <th>35036</th>\n",
              "      <td>35036</td>\n",
              "      <td>2022-10-31 22:45:00+04:00</td>\n",
              "      <td>0.0</td>\n",
              "      <td>0.021160</td>\n",
              "      <td>247.16</td>\n",
              "      <td>0.0</td>\n",
              "      <td>20.023056</td>\n",
              "      <td>100</td>\n",
              "    </tr>\n",
              "    <tr>\n",
              "      <th>35037</th>\n",
              "      <td>35037</td>\n",
              "      <td>2022-10-31 23:00:00+04:00</td>\n",
              "      <td>0.0</td>\n",
              "      <td>0.018419</td>\n",
              "      <td>247.16</td>\n",
              "      <td>0.0</td>\n",
              "      <td>20.292870</td>\n",
              "      <td>100</td>\n",
              "    </tr>\n",
              "    <tr>\n",
              "      <th>35038</th>\n",
              "      <td>35038</td>\n",
              "      <td>2022-10-31 23:15:00+04:00</td>\n",
              "      <td>0.0</td>\n",
              "      <td>0.014192</td>\n",
              "      <td>247.16</td>\n",
              "      <td>0.0</td>\n",
              "      <td>20.305278</td>\n",
              "      <td>100</td>\n",
              "    </tr>\n",
              "    <tr>\n",
              "      <th>35039</th>\n",
              "      <td>35039</td>\n",
              "      <td>2022-10-31 23:30:00+04:00</td>\n",
              "      <td>0.0</td>\n",
              "      <td>0.014657</td>\n",
              "      <td>247.16</td>\n",
              "      <td>0.0</td>\n",
              "      <td>20.251481</td>\n",
              "      <td>100</td>\n",
              "    </tr>\n",
              "    <tr>\n",
              "      <th>35040</th>\n",
              "      <td>35040</td>\n",
              "      <td>2022-10-31 23:45:00+04:00</td>\n",
              "      <td>0.0</td>\n",
              "      <td>0.011774</td>\n",
              "      <td>247.16</td>\n",
              "      <td>0.0</td>\n",
              "      <td>20.087778</td>\n",
              "      <td>100</td>\n",
              "    </tr>\n",
              "  </tbody>\n",
              "</table>\n",
              "<p>35041 rows × 8 columns</p>\n",
              "</div>\n",
              "      <button class=\"colab-df-convert\" onclick=\"convertToInteractive('df-8abcddec-e0ec-40c2-8030-5cf98d209da4')\"\n",
              "              title=\"Convert this dataframe to an interactive table.\"\n",
              "              style=\"display:none;\">\n",
              "        \n",
              "  <svg xmlns=\"http://www.w3.org/2000/svg\" height=\"24px\"viewBox=\"0 0 24 24\"\n",
              "       width=\"24px\">\n",
              "    <path d=\"M0 0h24v24H0V0z\" fill=\"none\"/>\n",
              "    <path d=\"M18.56 5.44l.94 2.06.94-2.06 2.06-.94-2.06-.94-.94-2.06-.94 2.06-2.06.94zm-11 1L8.5 8.5l.94-2.06 2.06-.94-2.06-.94L8.5 2.5l-.94 2.06-2.06.94zm10 10l.94 2.06.94-2.06 2.06-.94-2.06-.94-.94-2.06-.94 2.06-2.06.94z\"/><path d=\"M17.41 7.96l-1.37-1.37c-.4-.4-.92-.59-1.43-.59-.52 0-1.04.2-1.43.59L10.3 9.45l-7.72 7.72c-.78.78-.78 2.05 0 2.83L4 21.41c.39.39.9.59 1.41.59.51 0 1.02-.2 1.41-.59l7.78-7.78 2.81-2.81c.8-.78.8-2.07 0-2.86zM5.41 20L4 18.59l7.72-7.72 1.47 1.35L5.41 20z\"/>\n",
              "  </svg>\n",
              "      </button>\n",
              "      \n",
              "  <style>\n",
              "    .colab-df-container {\n",
              "      display:flex;\n",
              "      flex-wrap:wrap;\n",
              "      gap: 12px;\n",
              "    }\n",
              "\n",
              "    .colab-df-convert {\n",
              "      background-color: #E8F0FE;\n",
              "      border: none;\n",
              "      border-radius: 50%;\n",
              "      cursor: pointer;\n",
              "      display: none;\n",
              "      fill: #1967D2;\n",
              "      height: 32px;\n",
              "      padding: 0 0 0 0;\n",
              "      width: 32px;\n",
              "    }\n",
              "\n",
              "    .colab-df-convert:hover {\n",
              "      background-color: #E2EBFA;\n",
              "      box-shadow: 0px 1px 2px rgba(60, 64, 67, 0.3), 0px 1px 3px 1px rgba(60, 64, 67, 0.15);\n",
              "      fill: #174EA6;\n",
              "    }\n",
              "\n",
              "    [theme=dark] .colab-df-convert {\n",
              "      background-color: #3B4455;\n",
              "      fill: #D2E3FC;\n",
              "    }\n",
              "\n",
              "    [theme=dark] .colab-df-convert:hover {\n",
              "      background-color: #434B5C;\n",
              "      box-shadow: 0px 1px 3px 1px rgba(0, 0, 0, 0.15);\n",
              "      filter: drop-shadow(0px 1px 2px rgba(0, 0, 0, 0.3));\n",
              "      fill: #FFFFFF;\n",
              "    }\n",
              "  </style>\n",
              "\n",
              "      <script>\n",
              "        const buttonEl =\n",
              "          document.querySelector('#df-8abcddec-e0ec-40c2-8030-5cf98d209da4 button.colab-df-convert');\n",
              "        buttonEl.style.display =\n",
              "          google.colab.kernel.accessAllowed ? 'block' : 'none';\n",
              "\n",
              "        async function convertToInteractive(key) {\n",
              "          const element = document.querySelector('#df-8abcddec-e0ec-40c2-8030-5cf98d209da4');\n",
              "          const dataTable =\n",
              "            await google.colab.kernel.invokeFunction('convertToInteractive',\n",
              "                                                     [key], {});\n",
              "          if (!dataTable) return;\n",
              "\n",
              "          const docLinkHtml = 'Like what you see? Visit the ' +\n",
              "            '<a target=\"_blank\" href=https://colab.research.google.com/notebooks/data_table.ipynb>data table notebook</a>'\n",
              "            + ' to learn more about interactive tables.';\n",
              "          element.innerHTML = '';\n",
              "          dataTable['output_type'] = 'display_data';\n",
              "          await google.colab.output.renderOutput(dataTable, element);\n",
              "          const docLink = document.createElement('div');\n",
              "          docLink.innerHTML = docLinkHtml;\n",
              "          element.appendChild(docLink);\n",
              "        }\n",
              "      </script>\n",
              "    </div>\n",
              "  </div>\n",
              "  "
            ]
          },
          "metadata": {},
          "execution_count": 3
        }
      ]
    },
    {
      "cell_type": "markdown",
      "source": [
        "Removing Unnecessary Features"
      ],
      "metadata": {
        "id": "0jNHyXK6hI8b"
      }
    },
    {
      "cell_type": "code",
      "source": [
        "# Read only specific columns from the CSV file\n",
        "df = pd.read_csv(\"file_name.csv\", usecols = ['P_mpp_original','ghi','temp'])"
      ],
      "metadata": {
        "id": "aGb0xAVgTjIV"
      },
      "execution_count": null,
      "outputs": []
    },
    {
      "cell_type": "code",
      "source": [
        "df"
      ],
      "metadata": {
        "colab": {
          "base_uri": "https://localhost:8080/",
          "height": 424
        },
        "id": "P9u8LLFDTw4Z",
        "outputId": "742d2a03-d133-496b-f243-2e9b547be9b3"
      },
      "execution_count": null,
      "outputs": [
        {
          "output_type": "execute_result",
          "data": {
            "text/plain": [
              "       P_mpp_original  ghi       temp\n",
              "0                 0.0  0.0  20.000000\n",
              "1                 0.0  0.0  20.000000\n",
              "2                 0.0  0.0  20.000000\n",
              "3                 0.0  0.0  19.261574\n",
              "4                 0.0  0.0  19.977593\n",
              "...               ...  ...        ...\n",
              "35036             0.0  0.0  20.023056\n",
              "35037             0.0  0.0  20.292870\n",
              "35038             0.0  0.0  20.305278\n",
              "35039             0.0  0.0  20.251481\n",
              "35040             0.0  0.0  20.087778\n",
              "\n",
              "[35041 rows x 3 columns]"
            ],
            "text/html": [
              "\n",
              "  <div id=\"df-73bbe2e6-a28c-4db6-93c6-9ab9aa694012\">\n",
              "    <div class=\"colab-df-container\">\n",
              "      <div>\n",
              "<style scoped>\n",
              "    .dataframe tbody tr th:only-of-type {\n",
              "        vertical-align: middle;\n",
              "    }\n",
              "\n",
              "    .dataframe tbody tr th {\n",
              "        vertical-align: top;\n",
              "    }\n",
              "\n",
              "    .dataframe thead th {\n",
              "        text-align: right;\n",
              "    }\n",
              "</style>\n",
              "<table border=\"1\" class=\"dataframe\">\n",
              "  <thead>\n",
              "    <tr style=\"text-align: right;\">\n",
              "      <th></th>\n",
              "      <th>P_mpp_original</th>\n",
              "      <th>ghi</th>\n",
              "      <th>temp</th>\n",
              "    </tr>\n",
              "  </thead>\n",
              "  <tbody>\n",
              "    <tr>\n",
              "      <th>0</th>\n",
              "      <td>0.0</td>\n",
              "      <td>0.0</td>\n",
              "      <td>20.000000</td>\n",
              "    </tr>\n",
              "    <tr>\n",
              "      <th>1</th>\n",
              "      <td>0.0</td>\n",
              "      <td>0.0</td>\n",
              "      <td>20.000000</td>\n",
              "    </tr>\n",
              "    <tr>\n",
              "      <th>2</th>\n",
              "      <td>0.0</td>\n",
              "      <td>0.0</td>\n",
              "      <td>20.000000</td>\n",
              "    </tr>\n",
              "    <tr>\n",
              "      <th>3</th>\n",
              "      <td>0.0</td>\n",
              "      <td>0.0</td>\n",
              "      <td>19.261574</td>\n",
              "    </tr>\n",
              "    <tr>\n",
              "      <th>4</th>\n",
              "      <td>0.0</td>\n",
              "      <td>0.0</td>\n",
              "      <td>19.977593</td>\n",
              "    </tr>\n",
              "    <tr>\n",
              "      <th>...</th>\n",
              "      <td>...</td>\n",
              "      <td>...</td>\n",
              "      <td>...</td>\n",
              "    </tr>\n",
              "    <tr>\n",
              "      <th>35036</th>\n",
              "      <td>0.0</td>\n",
              "      <td>0.0</td>\n",
              "      <td>20.023056</td>\n",
              "    </tr>\n",
              "    <tr>\n",
              "      <th>35037</th>\n",
              "      <td>0.0</td>\n",
              "      <td>0.0</td>\n",
              "      <td>20.292870</td>\n",
              "    </tr>\n",
              "    <tr>\n",
              "      <th>35038</th>\n",
              "      <td>0.0</td>\n",
              "      <td>0.0</td>\n",
              "      <td>20.305278</td>\n",
              "    </tr>\n",
              "    <tr>\n",
              "      <th>35039</th>\n",
              "      <td>0.0</td>\n",
              "      <td>0.0</td>\n",
              "      <td>20.251481</td>\n",
              "    </tr>\n",
              "    <tr>\n",
              "      <th>35040</th>\n",
              "      <td>0.0</td>\n",
              "      <td>0.0</td>\n",
              "      <td>20.087778</td>\n",
              "    </tr>\n",
              "  </tbody>\n",
              "</table>\n",
              "<p>35041 rows × 3 columns</p>\n",
              "</div>\n",
              "      <button class=\"colab-df-convert\" onclick=\"convertToInteractive('df-73bbe2e6-a28c-4db6-93c6-9ab9aa694012')\"\n",
              "              title=\"Convert this dataframe to an interactive table.\"\n",
              "              style=\"display:none;\">\n",
              "        \n",
              "  <svg xmlns=\"http://www.w3.org/2000/svg\" height=\"24px\"viewBox=\"0 0 24 24\"\n",
              "       width=\"24px\">\n",
              "    <path d=\"M0 0h24v24H0V0z\" fill=\"none\"/>\n",
              "    <path d=\"M18.56 5.44l.94 2.06.94-2.06 2.06-.94-2.06-.94-.94-2.06-.94 2.06-2.06.94zm-11 1L8.5 8.5l.94-2.06 2.06-.94-2.06-.94L8.5 2.5l-.94 2.06-2.06.94zm10 10l.94 2.06.94-2.06 2.06-.94-2.06-.94-.94-2.06-.94 2.06-2.06.94z\"/><path d=\"M17.41 7.96l-1.37-1.37c-.4-.4-.92-.59-1.43-.59-.52 0-1.04.2-1.43.59L10.3 9.45l-7.72 7.72c-.78.78-.78 2.05 0 2.83L4 21.41c.39.39.9.59 1.41.59.51 0 1.02-.2 1.41-.59l7.78-7.78 2.81-2.81c.8-.78.8-2.07 0-2.86zM5.41 20L4 18.59l7.72-7.72 1.47 1.35L5.41 20z\"/>\n",
              "  </svg>\n",
              "      </button>\n",
              "      \n",
              "  <style>\n",
              "    .colab-df-container {\n",
              "      display:flex;\n",
              "      flex-wrap:wrap;\n",
              "      gap: 12px;\n",
              "    }\n",
              "\n",
              "    .colab-df-convert {\n",
              "      background-color: #E8F0FE;\n",
              "      border: none;\n",
              "      border-radius: 50%;\n",
              "      cursor: pointer;\n",
              "      display: none;\n",
              "      fill: #1967D2;\n",
              "      height: 32px;\n",
              "      padding: 0 0 0 0;\n",
              "      width: 32px;\n",
              "    }\n",
              "\n",
              "    .colab-df-convert:hover {\n",
              "      background-color: #E2EBFA;\n",
              "      box-shadow: 0px 1px 2px rgba(60, 64, 67, 0.3), 0px 1px 3px 1px rgba(60, 64, 67, 0.15);\n",
              "      fill: #174EA6;\n",
              "    }\n",
              "\n",
              "    [theme=dark] .colab-df-convert {\n",
              "      background-color: #3B4455;\n",
              "      fill: #D2E3FC;\n",
              "    }\n",
              "\n",
              "    [theme=dark] .colab-df-convert:hover {\n",
              "      background-color: #434B5C;\n",
              "      box-shadow: 0px 1px 3px 1px rgba(0, 0, 0, 0.15);\n",
              "      filter: drop-shadow(0px 1px 2px rgba(0, 0, 0, 0.3));\n",
              "      fill: #FFFFFF;\n",
              "    }\n",
              "  </style>\n",
              "\n",
              "      <script>\n",
              "        const buttonEl =\n",
              "          document.querySelector('#df-73bbe2e6-a28c-4db6-93c6-9ab9aa694012 button.colab-df-convert');\n",
              "        buttonEl.style.display =\n",
              "          google.colab.kernel.accessAllowed ? 'block' : 'none';\n",
              "\n",
              "        async function convertToInteractive(key) {\n",
              "          const element = document.querySelector('#df-73bbe2e6-a28c-4db6-93c6-9ab9aa694012');\n",
              "          const dataTable =\n",
              "            await google.colab.kernel.invokeFunction('convertToInteractive',\n",
              "                                                     [key], {});\n",
              "          if (!dataTable) return;\n",
              "\n",
              "          const docLinkHtml = 'Like what you see? Visit the ' +\n",
              "            '<a target=\"_blank\" href=https://colab.research.google.com/notebooks/data_table.ipynb>data table notebook</a>'\n",
              "            + ' to learn more about interactive tables.';\n",
              "          element.innerHTML = '';\n",
              "          dataTable['output_type'] = 'display_data';\n",
              "          await google.colab.output.renderOutput(dataTable, element);\n",
              "          const docLink = document.createElement('div');\n",
              "          docLink.innerHTML = docLinkHtml;\n",
              "          element.appendChild(docLink);\n",
              "        }\n",
              "      </script>\n",
              "    </div>\n",
              "  </div>\n",
              "  "
            ]
          },
          "metadata": {},
          "execution_count": 5
        }
      ]
    },
    {
      "cell_type": "markdown",
      "source": [
        "Checking for null values if yes removing them"
      ],
      "metadata": {
        "id": "9vALShmlhMPH"
      }
    },
    {
      "cell_type": "code",
      "source": [
        "# Check for missing values in the DataFrame\n",
        "df.isnull().sum().sum()"
      ],
      "metadata": {
        "colab": {
          "base_uri": "https://localhost:8080/"
        },
        "id": "yPwU-FejTzCw",
        "outputId": "e72a6c7c-bb95-4fff-8d08-4a8c2dc69630"
      },
      "execution_count": null,
      "outputs": [
        {
          "output_type": "execute_result",
          "data": {
            "text/plain": [
              "0"
            ]
          },
          "metadata": {},
          "execution_count": 6
        }
      ]
    },
    {
      "cell_type": "code",
      "source": [
        "import numpy as np"
      ],
      "metadata": {
        "id": "bw8srhReVxIw"
      },
      "execution_count": null,
      "outputs": []
    },
    {
      "cell_type": "markdown",
      "source": [
        "Checking corr coefficient"
      ],
      "metadata": {
        "id": "1xGXa988hQ7R"
      }
    },
    {
      "cell_type": "code",
      "source": [
        "# Calculate Pearson correlation coefficient for the columns 'P_mpp_original', 'ghi', and 'temp'\n",
        "pearson = np.corrcoef([df['P_mpp_original'],df['ghi'],df['temp']])\n",
        "print(pearson)"
      ],
      "metadata": {
        "colab": {
          "base_uri": "https://localhost:8080/"
        },
        "id": "hPKtE1yEVPvQ",
        "outputId": "123e6315-7f37-41b5-e6cb-b87a623293b0"
      },
      "execution_count": null,
      "outputs": [
        {
          "output_type": "stream",
          "name": "stdout",
          "text": [
            "[[1.         0.97767638 0.92504859]\n",
            " [0.97767638 1.         0.92482769]\n",
            " [0.92504859 0.92482769 1.        ]]\n"
          ]
        }
      ]
    },
    {
      "cell_type": "markdown",
      "source": [
        "Checking the min and max values for data normalization"
      ],
      "metadata": {
        "id": "dkmofbA_hYjk"
      }
    },
    {
      "cell_type": "code",
      "source": [
        "maxValues = df.max()\n",
        "# Get the maximum values for each column in the DataFrame\n",
        "print(maxValues)"
      ],
      "metadata": {
        "colab": {
          "base_uri": "https://localhost:8080/"
        },
        "id": "bHwzESVKbNPA",
        "outputId": "173ab03c-de6b-4ac0-9f42-e641935c713e"
      },
      "execution_count": null,
      "outputs": [
        {
          "output_type": "stream",
          "name": "stdout",
          "text": [
            "P_mpp_original     258.053203\n",
            "ghi               1280.586296\n",
            "temp                69.902778\n",
            "dtype: float64\n"
          ]
        }
      ]
    },
    {
      "cell_type": "code",
      "source": [
        "minValues = df.min()\n",
        "# Get the minimum values for each column in the DataFrame\n",
        "print(minValues)"
      ],
      "metadata": {
        "colab": {
          "base_uri": "https://localhost:8080/"
        },
        "id": "18iksIW8bnYf",
        "outputId": "7decba14-df06-472a-beef-b909fe16e14f"
      },
      "execution_count": null,
      "outputs": [
        {
          "output_type": "stream",
          "name": "stdout",
          "text": [
            "P_mpp_original    0.0\n",
            "ghi               0.0\n",
            "temp              0.0\n",
            "dtype: float64\n"
          ]
        }
      ]
    },
    {
      "cell_type": "markdown",
      "source": [
        "Normalization"
      ],
      "metadata": {
        "id": "7BhuNdC_hioU"
      }
    },
    {
      "cell_type": "code",
      "source": [
        "# Normalize the columns 'P_mpp_original', 'ghi', and 'temp' by dividing them by specific values\n",
        "df['P_mpp_original']= df['P_mpp_original']/1000\n",
        "df['ghi']= df['ghi']/10000\n",
        "df['temp']= df['temp']/100"
      ],
      "metadata": {
        "id": "17lU9zR_cUhE"
      },
      "execution_count": null,
      "outputs": []
    },
    {
      "cell_type": "code",
      "source": [
        "maxValues = df.max()\n",
        "\n",
        "print(maxValues)"
      ],
      "metadata": {
        "colab": {
          "base_uri": "https://localhost:8080/"
        },
        "id": "FmX6P2VScsy1",
        "outputId": "761b1753-9280-49b1-8bcc-643245559640"
      },
      "execution_count": null,
      "outputs": [
        {
          "output_type": "stream",
          "name": "stdout",
          "text": [
            "P_mpp_original    0.258053\n",
            "ghi               0.128059\n",
            "temp              0.699028\n",
            "dtype: float64\n"
          ]
        }
      ]
    },
    {
      "cell_type": "code",
      "source": [
        "minValues = df.min()\n",
        "\n",
        "print(minValues)"
      ],
      "metadata": {
        "colab": {
          "base_uri": "https://localhost:8080/"
        },
        "id": "koxDlM-Sc_mc",
        "outputId": "f2ca2aaa-24ec-4d1b-c8f7-9c2e2f85b916"
      },
      "execution_count": null,
      "outputs": [
        {
          "output_type": "stream",
          "name": "stdout",
          "text": [
            "P_mpp_original    0.0\n",
            "ghi               0.0\n",
            "temp              0.0\n",
            "dtype: float64\n"
          ]
        }
      ]
    },
    {
      "cell_type": "code",
      "source": [
        "import matplotlib.pyplot as plt\n",
        "import seaborn as sns"
      ],
      "metadata": {
        "id": "L1_aMBqBWFSH"
      },
      "execution_count": null,
      "outputs": []
    },
    {
      "cell_type": "markdown",
      "source": [
        "Printing correlation heatmap"
      ],
      "metadata": {
        "id": "DxLWkAkmhgXA"
      }
    },
    {
      "cell_type": "code",
      "source": [
        "# Create a list of labels for the heatmap plot\n",
        "labels=['P_mpp_original','ghi','temp']\n",
        "# Create a figure and axes for the heatmap plot\n",
        "fig,ax=plt.subplots(1,1,figsize=(14,7))\n",
        "# Create a heatmap plot with Pearson correlation coefficients as values\n",
        "sns.heatmap(pearson,ax=ax,xticklabels=labels,yticklabels=labels,annot=True,alpha=0.7,linewidths=2)\n",
        "# Add a title to the plot\n",
        "fig.text(s='Correlation',size=18,fontweight='bold',fontname='monospace',y=0.92,x=0.28,alpha=0.8)\n",
        "plt.show()"
      ],
      "metadata": {
        "colab": {
          "base_uri": "https://localhost:8080/",
          "height": 646
        },
        "id": "7CSUzhhbV6qz",
        "outputId": "dff0fb5a-eb3e-4e46-ee8a-308f55e54e93"
      },
      "execution_count": null,
      "outputs": [
        {
          "output_type": "display_data",
          "data": {
            "text/plain": [
              "<Figure size 1400x700 with 2 Axes>"
            ],
            "image/png": "[encoded data removed]"
          },
          "metadata": {}
        }
      ]
    },
    {
      "cell_type": "markdown",
      "source": [
        "X is parameters necessary for prediction\n",
        "y is the real output"
      ],
      "metadata": {
        "id": "5V3ipTANhpUo"
      }
    },
    {
      "cell_type": "code",
      "source": [
        "# Drop the column 'P_mpp_original' from the DataFrame and assign the result to X\n",
        "X=df.drop('P_mpp_original', axis='columns')\n",
        "# Assign the column 'P_mpp_original' to y\n",
        "y=df['P_mpp_original']"
      ],
      "metadata": {
        "id": "rOBu9nfHWra3"
      },
      "execution_count": null,
      "outputs": []
    },
    {
      "cell_type": "code",
      "source": [
        "X.shape"
      ],
      "metadata": {
        "colab": {
          "base_uri": "https://localhost:8080/"
        },
        "id": "IzuZJQ7xYbqK",
        "outputId": "145c9259-d12a-421d-ea2e-fdb8739e5891"
      },
      "execution_count": null,
      "outputs": [
        {
          "output_type": "execute_result",
          "data": {
            "text/plain": [
              "(35041, 2)"
            ]
          },
          "metadata": {},
          "execution_count": 17
        }
      ]
    },
    {
      "cell_type": "code",
      "source": [
        "y.shape"
      ],
      "metadata": {
        "colab": {
          "base_uri": "https://localhost:8080/"
        },
        "id": "Hn-8QUt5YdiW",
        "outputId": "b5db1638-da90-4d92-f4ec-4ac96211431c"
      },
      "execution_count": null,
      "outputs": [
        {
          "output_type": "execute_result",
          "data": {
            "text/plain": [
              "(35041,)"
            ]
          },
          "metadata": {},
          "execution_count": 18
        }
      ]
    },
    {
      "cell_type": "code",
      "source": [
        "X.dtypes"
      ],
      "metadata": {
        "colab": {
          "base_uri": "https://localhost:8080/"
        },
        "id": "ico3J0cwYf--",
        "outputId": "7033b43d-129a-4509-fcca-f19e4c15be50"
      },
      "execution_count": null,
      "outputs": [
        {
          "output_type": "execute_result",
          "data": {
            "text/plain": [
              "ghi     float64\n",
              "temp    float64\n",
              "dtype: object"
            ]
          },
          "metadata": {},
          "execution_count": 19
        }
      ]
    },
    {
      "cell_type": "code",
      "source": [
        "y.dtypes"
      ],
      "metadata": {
        "colab": {
          "base_uri": "https://localhost:8080/"
        },
        "id": "dM9VClHOY3X7",
        "outputId": "e46dfe4a-1177-4ad2-c580-ac172917ea7d"
      },
      "execution_count": null,
      "outputs": [
        {
          "output_type": "execute_result",
          "data": {
            "text/plain": [
              "dtype('float64')"
            ]
          },
          "metadata": {},
          "execution_count": 20
        }
      ]
    },
    {
      "cell_type": "markdown",
      "source": [
        "Test Train Split"
      ],
      "metadata": {
        "id": "7ISlEKIfh1J2"
      }
    },
    {
      "cell_type": "code",
      "source": [
        "from sklearn.model_selection import train_test_split\n",
        "# Split the data into training and testing sets using a 80/20 ratio\n",
        "X_train, X_test, y_train, y_test = train_test_split(X, y, test_size=0.2, random_state=5)"
      ],
      "metadata": {
        "id": "YGDPYIgXY8Ry"
      },
      "execution_count": null,
      "outputs": []
    },
    {
      "cell_type": "markdown",
      "source": [
        "ANN Model"
      ],
      "metadata": {
        "id": "lLoD7dhHh252"
      }
    },
    {
      "cell_type": "code",
      "source": [
        "import tensorflow as tf\n",
        "from tensorflow import keras\n",
        "# Create a sequential neural network model\n",
        "model=keras.Sequential([\n",
        "    keras.layers.Dense(5, input_shape=(2,), activation='relu'),\n",
        "    keras.layers.Dense(5, activation='relu'),\n",
        "    keras.layers.Dense(5, activation='relu'),\n",
        "    keras.layers.Dense(1, activation='relu'),\n",
        "])\n",
        "# Compile the model with Adam optimizer and mean squared error loss\n",
        "model.compile(optimizer='adam', loss='mse')"
      ],
      "metadata": {
        "id": "ApL2tF4qZ0I0"
      },
      "execution_count": null,
      "outputs": []
    },
    {
      "cell_type": "code",
      "source": [
        "model.summary()"
      ],
      "metadata": {
        "colab": {
          "base_uri": "https://localhost:8080/"
        },
        "id": "xWKeT_vbelM8",
        "outputId": "e1f6fe06-813e-4722-96af-d5bda10ab358"
      },
      "execution_count": null,
      "outputs": [
        {
          "output_type": "stream",
          "name": "stdout",
          "text": [
            "Model: \"sequential\"\n",
            "_________________________________________________________________\n",
            " Layer (type)                Output Shape              Param #   \n",
            "=================================================================\n",
            " dense (Dense)               (None, 5)                 15        \n",
            "                                                                 \n",
            " dense_1 (Dense)             (None, 5)                 30        \n",
            "                                                                 \n",
            " dense_2 (Dense)             (None, 5)                 30        \n",
            "                                                                 \n",
            " dense_3 (Dense)             (None, 1)                 6         \n",
            "                                                                 \n",
            "=================================================================\n",
            "Total params: 81\n",
            "Trainable params: 81\n",
            "Non-trainable params: 0\n",
            "_________________________________________________________________\n"
          ]
        }
      ]
    },
    {
      "cell_type": "markdown",
      "source": [
        "Training"
      ],
      "metadata": {
        "id": "jRs78km1h6dk"
      }
    },
    {
      "cell_type": "code",
      "source": [
        "# Create a list to store model training history\n",
        "model_history=[]\n",
        "# Train the model and store the history\n",
        "history=model.fit(X_train, y_train,validation_split=0.1, epochs =50, verbose=1)\n",
        "model_history.append(history)\n",
        "# Plot the training loss and validation loss over epochs\n",
        "#vallosscsloss\n",
        "plt.title('Loss vs Val loss')\n",
        "plt.plot(history.history['loss'], label='loss')\n",
        "plt.plot(history.history['val_loss'], label='val_loss')\n",
        "\n",
        "plt.legend()\n",
        "plt.show()\n"
      ],
      "metadata": {
        "colab": {
          "base_uri": "https://localhost:8080/",
          "height": 1000
        },
        "id": "xtXFbBNsdVmD",
        "outputId": "b42e1914-e6a0-40f4-db2a-1da86b0f8c50"
      },
      "execution_count": null,
      "outputs": [
        {
          "output_type": "stream",
          "name": "stdout",
          "text": [
            "Epoch 1/50\n",
            "789/789 [==============================] - 2s 2ms/step - loss: 6.6190e-04 - val_loss: 3.7590e-04\n",
            "Epoch 2/50\n",
            "789/789 [==============================] - 1s 2ms/step - loss: 3.0874e-04 - val_loss: 2.9547e-04\n",
            "Epoch 3/50\n",
            "789/789 [==============================] - 1s 2ms/step - loss: 2.7823e-04 - val_loss: 2.7314e-04\n",
            "Epoch 4/50\n",
            "789/789 [==============================] - 1s 1ms/step - loss: 2.5038e-04 - val_loss: 2.5536e-04\n",
            "Epoch 5/50\n",
            "789/789 [==============================] - 1s 1ms/step - loss: 2.2912e-04 - val_loss: 2.3198e-04\n",
            "Epoch 6/50\n",
            "789/789 [==============================] - 1s 1ms/step - loss: 2.1185e-04 - val_loss: 2.1265e-04\n",
            "Epoch 7/50\n",
            "789/789 [==============================] - 1s 1ms/step - loss: 1.9866e-04 - val_loss: 1.9534e-04\n",
            "Epoch 8/50\n",
            "789/789 [==============================] - 1s 1ms/step - loss: 1.8986e-04 - val_loss: 2.1063e-04\n",
            "Epoch 9/50\n",
            "789/789 [==============================] - 1s 1ms/step - loss: 1.8465e-04 - val_loss: 1.8845e-04\n",
            "Epoch 10/50\n",
            "789/789 [==============================] - 1s 1ms/step - loss: 1.8046e-04 - val_loss: 1.7950e-04\n",
            "Epoch 11/50\n",
            "789/789 [==============================] - 2s 2ms/step - loss: 1.7911e-04 - val_loss: 1.7623e-04\n",
            "Epoch 12/50\n",
            "789/789 [==============================] - 2s 2ms/step - loss: 1.7927e-04 - val_loss: 1.7725e-04\n",
            "Epoch 13/50\n",
            "789/789 [==============================] - 1s 2ms/step - loss: 1.7852e-04 - val_loss: 1.7806e-04\n",
            "Epoch 14/50\n",
            "789/789 [==============================] - 1s 1ms/step - loss: 1.7656e-04 - val_loss: 1.7304e-04\n",
            "Epoch 15/50\n",
            "789/789 [==============================] - 1s 1ms/step - loss: 1.7766e-04 - val_loss: 1.7450e-04\n",
            "Epoch 16/50\n",
            "789/789 [==============================] - 1s 1ms/step - loss: 1.7409e-04 - val_loss: 1.8842e-04\n",
            "Epoch 17/50\n",
            "789/789 [==============================] - 1s 1ms/step - loss: 1.7310e-04 - val_loss: 1.7115e-04\n",
            "Epoch 18/50\n",
            "789/789 [==============================] - 1s 1ms/step - loss: 1.7236e-04 - val_loss: 1.7951e-04\n",
            "Epoch 19/50\n",
            "789/789 [==============================] - 1s 1ms/step - loss: 1.7331e-04 - val_loss: 1.7207e-04\n",
            "Epoch 20/50\n",
            "789/789 [==============================] - 1s 1ms/step - loss: 1.7233e-04 - val_loss: 1.7266e-04\n",
            "Epoch 21/50\n",
            "789/789 [==============================] - 1s 1ms/step - loss: 1.7438e-04 - val_loss: 1.9447e-04\n",
            "Epoch 22/50\n",
            "789/789 [==============================] - 1s 1ms/step - loss: 1.7185e-04 - val_loss: 1.6963e-04\n",
            "Epoch 23/50\n",
            "789/789 [==============================] - 1s 2ms/step - loss: 1.7188e-04 - val_loss: 1.6805e-04\n",
            "Epoch 24/50\n",
            "789/789 [==============================] - 1s 1ms/step - loss: 1.6863e-04 - val_loss: 1.7346e-04\n",
            "Epoch 25/50\n",
            "789/789 [==============================] - 1s 1ms/step - loss: 1.6847e-04 - val_loss: 1.6558e-04\n",
            "Epoch 26/50\n",
            "789/789 [==============================] - 1s 1ms/step - loss: 1.6147e-04 - val_loss: 1.6257e-04\n",
            "Epoch 27/50\n",
            "789/789 [==============================] - 1s 1ms/step - loss: 1.5584e-04 - val_loss: 1.4787e-04\n",
            "Epoch 28/50\n",
            "789/789 [==============================] - 1s 1ms/step - loss: 1.3980e-04 - val_loss: 1.4537e-04\n",
            "Epoch 29/50\n",
            "789/789 [==============================] - 1s 1ms/step - loss: 1.2413e-04 - val_loss: 1.2000e-04\n",
            "Epoch 30/50\n",
            "789/789 [==============================] - 1s 1ms/step - loss: 1.0837e-04 - val_loss: 1.0581e-04\n",
            "Epoch 31/50\n",
            "789/789 [==============================] - 1s 1ms/step - loss: 9.6066e-05 - val_loss: 1.0076e-04\n",
            "Epoch 32/50\n",
            "789/789 [==============================] - 1s 1ms/step - loss: 8.7467e-05 - val_loss: 1.0314e-04\n",
            "Epoch 33/50\n",
            "789/789 [==============================] - 1s 2ms/step - loss: 8.2901e-05 - val_loss: 9.9537e-05\n",
            "Epoch 34/50\n",
            "789/789 [==============================] - 1s 2ms/step - loss: 8.1843e-05 - val_loss: 8.8316e-05\n",
            "Epoch 35/50\n",
            "789/789 [==============================] - 1s 1ms/step - loss: 8.0415e-05 - val_loss: 8.5686e-05\n",
            "Epoch 36/50\n",
            "789/789 [==============================] - 1s 1ms/step - loss: 8.0433e-05 - val_loss: 8.9325e-05\n",
            "Epoch 37/50\n",
            "789/789 [==============================] - 1s 1ms/step - loss: 8.0913e-05 - val_loss: 8.7874e-05\n",
            "Epoch 38/50\n",
            "789/789 [==============================] - 1s 1ms/step - loss: 7.9255e-05 - val_loss: 8.5275e-05\n",
            "Epoch 39/50\n",
            "789/789 [==============================] - 1s 1ms/step - loss: 7.8391e-05 - val_loss: 8.4005e-05\n",
            "Epoch 40/50\n",
            "789/789 [==============================] - 1s 1ms/step - loss: 7.9464e-05 - val_loss: 8.6005e-05\n",
            "Epoch 41/50\n",
            "789/789 [==============================] - 1s 1ms/step - loss: 7.9344e-05 - val_loss: 8.5343e-05\n",
            "Epoch 42/50\n",
            "789/789 [==============================] - 1s 1ms/step - loss: 7.8993e-05 - val_loss: 8.6866e-05\n",
            "Epoch 43/50\n",
            "789/789 [==============================] - 1s 1ms/step - loss: 7.9566e-05 - val_loss: 8.3722e-05\n",
            "Epoch 44/50\n",
            "789/789 [==============================] - 1s 2ms/step - loss: 7.8159e-05 - val_loss: 8.4225e-05\n",
            "Epoch 45/50\n",
            "789/789 [==============================] - 1s 2ms/step - loss: 7.9713e-05 - val_loss: 8.6286e-05\n",
            "Epoch 46/50\n",
            "789/789 [==============================] - 1s 1ms/step - loss: 7.8211e-05 - val_loss: 8.4883e-05\n",
            "Epoch 47/50\n",
            "789/789 [==============================] - 1s 1ms/step - loss: 7.8667e-05 - val_loss: 8.4173e-05\n",
            "Epoch 48/50\n",
            "789/789 [==============================] - 1s 1ms/step - loss: 7.8896e-05 - val_loss: 8.4567e-05\n",
            "Epoch 49/50\n",
            "789/789 [==============================] - 1s 1ms/step - loss: 7.9524e-05 - val_loss: 8.5122e-05\n",
            "Epoch 50/50\n",
            "789/789 [==============================] - 1s 1ms/step - loss: 7.8416e-05 - val_loss: 8.5928e-05\n"
          ]
        },
        {
          "output_type": "display_data",
          "data": {
            "text/plain": [
              "<Figure size 640x480 with 1 Axes>"
            ],
            "image/png": "[encoded data removed]"
          },
          "metadata": {}
        }
      ]
    },
    {
      "cell_type": "code",
      "source": [
        "# Get the weights and biases for each dense layer in the trained model\n",
        "\n",
        "weights_dense1, biases_dense1 = model.layers[0].get_weights()\n",
        "weights_dense2, biases_dense2 = model.layers[1].get_weights()\n",
        "weights_dense3, biases_dense3 = model.layers[2].get_weights()\n",
        "weights_dense4, biases_dense4 = model.layers[3].get_weights()\n",
        "\n",
        "# Print the trained parameter values\n",
        "print('Weights of dense layer 1:\\n', weights_dense1)\n",
        "print('Biases of dense layer 1:\\n', biases_dense1)\n",
        "print('Weights of dense layer 2:\\n', weights_dense2)\n",
        "print('Biases of dense layer 2:\\n', biases_dense2)\n",
        "print('Weights of dense layer 3:\\n', weights_dense3)\n",
        "print('Biases of dense layer 3:\\n', biases_dense3)\n",
        "print('Weights of dense layer 4:\\n', weights_dense4)\n",
        "print('Biases of dense layer 4:\\n', biases_dense4)"
      ],
      "metadata": {
        "id": "bbuQHdal35rt",
        "outputId": "234648d3-924e-4189-fc4a-d0c8c66a9f27",
        "colab": {
          "base_uri": "https://localhost:8080/"
        }
      },
      "execution_count": null,
      "outputs": [
        {
          "output_type": "stream",
          "name": "stdout",
          "text": [
            "Weights of dense layer 1:\n",
            " [[ 0.7542684   1.3807995  -0.62062204  0.39447653  2.4092984 ]\n",
            " [-0.2513698   0.990363   -0.46021426 -0.9179084  -0.04778934]]\n",
            "Biases of dense layer 1:\n",
            " [-0.02065389 -0.09508531  0.          0.          0.01182254]\n",
            "Weights of dense layer 2:\n",
            " [[-0.44411182 -0.04343778  0.05265586  0.13233155 -0.08719633]\n",
            " [ 0.09536943 -0.02528834  0.1793516   0.18756369  0.6101881 ]\n",
            " [ 0.09827632 -0.23471993  0.11013454  0.11519378 -0.27796847]\n",
            " [ 0.59065676  0.10585773 -0.24295515  0.18212819  0.5559182 ]\n",
            " [-0.645653   -0.43338203  0.9732371  -0.6547408  -0.5441825 ]]\n",
            "Biases of dense layer 2:\n",
            " [-0.04424034  0.         -0.01581887 -0.06274129 -0.01364502]\n",
            "Weights of dense layer 3:\n",
            " [[-0.42024124 -0.6079648  -0.06437105 -0.52151066  0.03152619]\n",
            " [-0.27093017  0.7483252  -0.5688374   0.20810783 -0.15313244]\n",
            " [ 0.10406759  0.8950451  -0.25263298 -0.8809893   0.8012206 ]\n",
            " [-0.18462044  0.65550596  0.02851212  0.60994035  0.2572827 ]\n",
            " [-0.5081568  -1.388935   -0.24361551  0.56915    -0.03863906]]\n",
            "Biases of dense layer 3:\n",
            " [-0.01964967 -0.07465526  0.          0.11052408  0.01255374]\n",
            "Weights of dense layer 4:\n",
            " [[ 0.33191592]\n",
            " [-1.93755   ]\n",
            " [-0.29890704]\n",
            " [-0.31179854]\n",
            " [ 0.7313855 ]]\n",
            "Biases of dense layer 4:\n",
            " [0.02706455]\n"
          ]
        }
      ]
    },
    {
      "cell_type": "code",
      "source": [
        "import pandas as pd\n",
        "df = pd.read_csv(\"file1.csv\")"
      ],
      "metadata": {
        "id": "77s-Wy4fR7Gs",
        "colab": {
          "base_uri": "https://localhost:8080/",
          "height": 336
        },
        "outputId": "12c5c0ec-9807-4fe0-9137-b1cb2c7d2460"
      },
      "execution_count": null,
      "outputs": [
        {
          "output_type": "error",
          "ename": "FileNotFoundError",
          "evalue": "ignored",
          "traceback": [
            "\u001b[0;31m---------------------------------------------------------------------------\u001b[0m",
            "\u001b[0;31mFileNotFoundError\u001b[0m                         Traceback (most recent call last)",
            "\u001b[0;32m<ipython-input-4-78b2f3523916>\u001b[0m in \u001b[0;36m<cell line: 2>\u001b[0;34m()\u001b[0m\n\u001b[1;32m      1\u001b[0m \u001b[0;32mimport\u001b[0m \u001b[0mpandas\u001b[0m \u001b[0;32mas\u001b[0m \u001b[0mpd\u001b[0m\u001b[0;34m\u001b[0m\u001b[0;34m\u001b[0m\u001b[0m\n\u001b[0;32m----> 2\u001b[0;31m \u001b[0mdf\u001b[0m \u001b[0;34m=\u001b[0m \u001b[0mpd\u001b[0m\u001b[0;34m.\u001b[0m\u001b[0mread_csv\u001b[0m\u001b[0;34m(\u001b[0m\u001b[0;34m\"file1.csv\"\u001b[0m\u001b[0;34m)\u001b[0m\u001b[0;34m\u001b[0m\u001b[0;34m\u001b[0m\u001b[0m\n\u001b[0m",
            "\u001b[0;32m/usr/local/lib/python3.9/dist-packages/pandas/util/_decorators.py\u001b[0m in \u001b[0;36mwrapper\u001b[0;34m(*args, **kwargs)\u001b[0m\n\u001b[1;32m    209\u001b[0m                 \u001b[0;32melse\u001b[0m\u001b[0;34m:\u001b[0m\u001b[0;34m\u001b[0m\u001b[0;34m\u001b[0m\u001b[0m\n\u001b[1;32m    210\u001b[0m                     \u001b[0mkwargs\u001b[0m\u001b[0;34m[\u001b[0m\u001b[0mnew_arg_name\u001b[0m\u001b[0;34m]\u001b[0m \u001b[0;34m=\u001b[0m \u001b[0mnew_arg_value\u001b[0m\u001b[0;34m\u001b[0m\u001b[0;34m\u001b[0m\u001b[0m\n\u001b[0;32m--> 211\u001b[0;31m             \u001b[0;32mreturn\u001b[0m \u001b[0mfunc\u001b[0m\u001b[0;34m(\u001b[0m\u001b[0;34m*\u001b[0m\u001b[0margs\u001b[0m\u001b[0;34m,\u001b[0m \u001b[0;34m**\u001b[0m\u001b[0mkwargs\u001b[0m\u001b[0;34m)\u001b[0m\u001b[0;34m\u001b[0m\u001b[0;34m\u001b[0m\u001b[0m\n\u001b[0m\u001b[1;32m    212\u001b[0m \u001b[0;34m\u001b[0m\u001b[0m\n\u001b[1;32m    213\u001b[0m         \u001b[0;32mreturn\u001b[0m \u001b[0mcast\u001b[0m\u001b[0;34m(\u001b[0m\u001b[0mF\u001b[0m\u001b[0;34m,\u001b[0m \u001b[0mwrapper\u001b[0m\u001b[0;34m)\u001b[0m\u001b[0;34m\u001b[0m\u001b[0;34m\u001b[0m\u001b[0m\n",
            "\u001b[0;32m/usr/local/lib/python3.9/dist-packages/pandas/util/_decorators.py\u001b[0m in \u001b[0;36mwrapper\u001b[0;34m(*args, **kwargs)\u001b[0m\n\u001b[1;32m    329\u001b[0m                     \u001b[0mstacklevel\u001b[0m\u001b[0;34m=\u001b[0m\u001b[0mfind_stack_level\u001b[0m\u001b[0;34m(\u001b[0m\u001b[0;34m)\u001b[0m\u001b[0;34m,\u001b[0m\u001b[0;34m\u001b[0m\u001b[0;34m\u001b[0m\u001b[0m\n\u001b[1;32m    330\u001b[0m                 )\n\u001b[0;32m--> 331\u001b[0;31m             \u001b[0;32mreturn\u001b[0m \u001b[0mfunc\u001b[0m\u001b[0;34m(\u001b[0m\u001b[0;34m*\u001b[0m\u001b[0margs\u001b[0m\u001b[0;34m,\u001b[0m \u001b[0;34m**\u001b[0m\u001b[0mkwargs\u001b[0m\u001b[0;34m)\u001b[0m\u001b[0;34m\u001b[0m\u001b[0;34m\u001b[0m\u001b[0m\n\u001b[0m\u001b[1;32m    332\u001b[0m \u001b[0;34m\u001b[0m\u001b[0m\n\u001b[1;32m    333\u001b[0m         \u001b[0;31m# error: \"Callable[[VarArg(Any), KwArg(Any)], Any]\" has no\u001b[0m\u001b[0;34m\u001b[0m\u001b[0;34m\u001b[0m\u001b[0m\n",
            "\u001b[0;32m/usr/local/lib/python3.9/dist-packages/pandas/io/parsers/readers.py\u001b[0m in \u001b[0;36mread_csv\u001b[0;34m(filepath_or_buffer, sep, delimiter, header, names, index_col, usecols, squeeze, prefix, mangle_dupe_cols, dtype, engine, converters, true_values, false_values, skipinitialspace, skiprows, skipfooter, nrows, na_values, keep_default_na, na_filter, verbose, skip_blank_lines, parse_dates, infer_datetime_format, keep_date_col, date_parser, dayfirst, cache_dates, iterator, chunksize, compression, thousands, decimal, lineterminator, quotechar, quoting, doublequote, escapechar, comment, encoding, encoding_errors, dialect, error_bad_lines, warn_bad_lines, on_bad_lines, delim_whitespace, low_memory, memory_map, float_precision, storage_options)\u001b[0m\n\u001b[1;32m    948\u001b[0m     \u001b[0mkwds\u001b[0m\u001b[0;34m.\u001b[0m\u001b[0mupdate\u001b[0m\u001b[0;34m(\u001b[0m\u001b[0mkwds_defaults\u001b[0m\u001b[0;34m)\u001b[0m\u001b[0;34m\u001b[0m\u001b[0;34m\u001b[0m\u001b[0m\n\u001b[1;32m    949\u001b[0m \u001b[0;34m\u001b[0m\u001b[0m\n\u001b[0;32m--> 950\u001b[0;31m     \u001b[0;32mreturn\u001b[0m \u001b[0m_read\u001b[0m\u001b[0;34m(\u001b[0m\u001b[0mfilepath_or_buffer\u001b[0m\u001b[0;34m,\u001b[0m \u001b[0mkwds\u001b[0m\u001b[0;34m)\u001b[0m\u001b[0;34m\u001b[0m\u001b[0;34m\u001b[0m\u001b[0m\n\u001b[0m\u001b[1;32m    951\u001b[0m \u001b[0;34m\u001b[0m\u001b[0m\n\u001b[1;32m    952\u001b[0m \u001b[0;34m\u001b[0m\u001b[0m\n",
            "\u001b[0;32m/usr/local/lib/python3.9/dist-packages/pandas/io/parsers/readers.py\u001b[0m in \u001b[0;36m_read\u001b[0;34m(filepath_or_buffer, kwds)\u001b[0m\n\u001b[1;32m    603\u001b[0m \u001b[0;34m\u001b[0m\u001b[0m\n\u001b[1;32m    604\u001b[0m     \u001b[0;31m# Create the parser.\u001b[0m\u001b[0;34m\u001b[0m\u001b[0;34m\u001b[0m\u001b[0m\n\u001b[0;32m--> 605\u001b[0;31m     \u001b[0mparser\u001b[0m \u001b[0;34m=\u001b[0m \u001b[0mTextFileReader\u001b[0m\u001b[0;34m(\u001b[0m\u001b[0mfilepath_or_buffer\u001b[0m\u001b[0;34m,\u001b[0m \u001b[0;34m**\u001b[0m\u001b[0mkwds\u001b[0m\u001b[0;34m)\u001b[0m\u001b[0;34m\u001b[0m\u001b[0;34m\u001b[0m\u001b[0m\n\u001b[0m\u001b[1;32m    606\u001b[0m \u001b[0;34m\u001b[0m\u001b[0m\n\u001b[1;32m    607\u001b[0m     \u001b[0;32mif\u001b[0m \u001b[0mchunksize\u001b[0m \u001b[0;32mor\u001b[0m \u001b[0miterator\u001b[0m\u001b[0;34m:\u001b[0m\u001b[0;34m\u001b[0m\u001b[0;34m\u001b[0m\u001b[0m\n",
            "\u001b[0;32m/usr/local/lib/python3.9/dist-packages/pandas/io/parsers/readers.py\u001b[0m in \u001b[0;36m__init__\u001b[0;34m(self, f, engine, **kwds)\u001b[0m\n\u001b[1;32m   1440\u001b[0m \u001b[0;34m\u001b[0m\u001b[0m\n\u001b[1;32m   1441\u001b[0m         \u001b[0mself\u001b[0m\u001b[0;34m.\u001b[0m\u001b[0mhandles\u001b[0m\u001b[0;34m:\u001b[0m \u001b[0mIOHandles\u001b[0m \u001b[0;34m|\u001b[0m \u001b[0;32mNone\u001b[0m \u001b[0;34m=\u001b[0m \u001b[0;32mNone\u001b[0m\u001b[0;34m\u001b[0m\u001b[0;34m\u001b[0m\u001b[0m\n\u001b[0;32m-> 1442\u001b[0;31m         \u001b[0mself\u001b[0m\u001b[0;34m.\u001b[0m\u001b[0m_engine\u001b[0m \u001b[0;34m=\u001b[0m \u001b[0mself\u001b[0m\u001b[0;34m.\u001b[0m\u001b[0m_make_engine\u001b[0m\u001b[0;34m(\u001b[0m\u001b[0mf\u001b[0m\u001b[0;34m,\u001b[0m \u001b[0mself\u001b[0m\u001b[0;34m.\u001b[0m\u001b[0mengine\u001b[0m\u001b[0;34m)\u001b[0m\u001b[0;34m\u001b[0m\u001b[0;34m\u001b[0m\u001b[0m\n\u001b[0m\u001b[1;32m   1443\u001b[0m \u001b[0;34m\u001b[0m\u001b[0m\n\u001b[1;32m   1444\u001b[0m     \u001b[0;32mdef\u001b[0m \u001b[0mclose\u001b[0m\u001b[0;34m(\u001b[0m\u001b[0mself\u001b[0m\u001b[0;34m)\u001b[0m \u001b[0;34m->\u001b[0m \u001b[0;32mNone\u001b[0m\u001b[0;34m:\u001b[0m\u001b[0;34m\u001b[0m\u001b[0;34m\u001b[0m\u001b[0m\n",
            "\u001b[0;32m/usr/local/lib/python3.9/dist-packages/pandas/io/parsers/readers.py\u001b[0m in \u001b[0;36m_make_engine\u001b[0;34m(self, f, engine)\u001b[0m\n\u001b[1;32m   1733\u001b[0m                 \u001b[0;32mif\u001b[0m \u001b[0;34m\"b\"\u001b[0m \u001b[0;32mnot\u001b[0m \u001b[0;32min\u001b[0m \u001b[0mmode\u001b[0m\u001b[0;34m:\u001b[0m\u001b[0;34m\u001b[0m\u001b[0;34m\u001b[0m\u001b[0m\n\u001b[1;32m   1734\u001b[0m                     \u001b[0mmode\u001b[0m \u001b[0;34m+=\u001b[0m \u001b[0;34m\"b\"\u001b[0m\u001b[0;34m\u001b[0m\u001b[0;34m\u001b[0m\u001b[0m\n\u001b[0;32m-> 1735\u001b[0;31m             self.handles = get_handle(\n\u001b[0m\u001b[1;32m   1736\u001b[0m                 \u001b[0mf\u001b[0m\u001b[0;34m,\u001b[0m\u001b[0;34m\u001b[0m\u001b[0;34m\u001b[0m\u001b[0m\n\u001b[1;32m   1737\u001b[0m                 \u001b[0mmode\u001b[0m\u001b[0;34m,\u001b[0m\u001b[0;34m\u001b[0m\u001b[0;34m\u001b[0m\u001b[0m\n",
            "\u001b[0;32m/usr/local/lib/python3.9/dist-packages/pandas/io/common.py\u001b[0m in \u001b[0;36mget_handle\u001b[0;34m(path_or_buf, mode, encoding, compression, memory_map, is_text, errors, storage_options)\u001b[0m\n\u001b[1;32m    854\u001b[0m         \u001b[0;32mif\u001b[0m \u001b[0mioargs\u001b[0m\u001b[0;34m.\u001b[0m\u001b[0mencoding\u001b[0m \u001b[0;32mand\u001b[0m \u001b[0;34m\"b\"\u001b[0m \u001b[0;32mnot\u001b[0m \u001b[0;32min\u001b[0m \u001b[0mioargs\u001b[0m\u001b[0;34m.\u001b[0m\u001b[0mmode\u001b[0m\u001b[0;34m:\u001b[0m\u001b[0;34m\u001b[0m\u001b[0;34m\u001b[0m\u001b[0m\n\u001b[1;32m    855\u001b[0m             \u001b[0;31m# Encoding\u001b[0m\u001b[0;34m\u001b[0m\u001b[0;34m\u001b[0m\u001b[0m\n\u001b[0;32m--> 856\u001b[0;31m             handle = open(\n\u001b[0m\u001b[1;32m    857\u001b[0m                 \u001b[0mhandle\u001b[0m\u001b[0;34m,\u001b[0m\u001b[0;34m\u001b[0m\u001b[0;34m\u001b[0m\u001b[0m\n\u001b[1;32m    858\u001b[0m                 \u001b[0mioargs\u001b[0m\u001b[0;34m.\u001b[0m\u001b[0mmode\u001b[0m\u001b[0;34m,\u001b[0m\u001b[0;34m\u001b[0m\u001b[0;34m\u001b[0m\u001b[0m\n",
            "\u001b[0;31mFileNotFoundError\u001b[0m: [Errno 2] No such file or directory: 'file1.csv'"
          ]
        }
      ]
    },
    {
      "cell_type": "code",
      "source": [
        "df"
      ],
      "metadata": {
        "colab": {
          "base_uri": "https://localhost:8080/",
          "height": 641
        },
        "id": "rZlXtrJZR7S1",
        "outputId": "6d61107f-d961-49de-eba0-a44ff4550d4b"
      },
      "execution_count": null,
      "outputs": [
        {
          "output_type": "execute_result",
          "data": {
            "text/plain": [
              "                       timestamp  P_mpp_original      P_pv  P_pv_setpoint  \\\n",
              "0      2021-10-31 23:45:00+00:00             0.0 -0.017111         247.16   \n",
              "1      2021-11-01 00:00:00+00:00             0.0 -0.018108         247.16   \n",
              "2      2021-11-01 00:15:00+00:00             0.0 -0.017899         247.16   \n",
              "3      2021-11-01 00:30:00+00:00             0.0 -0.018027         247.16   \n",
              "4      2021-11-01 00:45:00+00:00             0.0 -0.020167         247.16   \n",
              "...                          ...             ...       ...            ...   \n",
              "35036  2022-10-31 22:45:00+00:00             0.0  0.021160         247.13   \n",
              "35037  2022-10-31 23:00:00+00:00             0.0  0.018419         247.13   \n",
              "35038  2022-10-31 23:15:00+00:00             0.0  0.014192         247.13   \n",
              "35039  2022-10-31 23:30:00+00:00             0.0  0.014657         247.13   \n",
              "35040  2022-10-31 23:45:00+00:00             0.0  0.011774         247.13   \n",
              "\n",
              "       ghi       temp  dispo_pv  wind_speed  Ppv_dc_mpp_th  P_mpp  \n",
              "0      0.0  20.000000     100.0           0            0.0    0.0  \n",
              "1      0.0  20.000000     100.0           0            0.0    0.0  \n",
              "2      0.0  20.000000     100.0           0            0.0    0.0  \n",
              "3      0.0  19.261574     100.0           0            0.0    0.0  \n",
              "4      0.0  19.977593     100.0           0            0.0    0.0  \n",
              "...    ...        ...       ...         ...            ...    ...  \n",
              "35036  0.0  20.023056     100.0           0            0.0    0.0  \n",
              "35037  0.0  20.292870     100.0           0            0.0    0.0  \n",
              "35038  0.0  20.305278     100.0           0            0.0    0.0  \n",
              "35039  0.0  20.251481     100.0           0            0.0    0.0  \n",
              "35040  0.0  20.087778     100.0           0            0.0    0.0  \n",
              "\n",
              "[35041 rows x 10 columns]"
            ],
            "text/html": [
              "\n",
              "  <div id=\"df-51472ee9-3be8-4a4d-9cd2-4c1b4c270608\">\n",
              "    <div class=\"colab-df-container\">\n",
              "      <div>\n",
              "<style scoped>\n",
              "    .dataframe tbody tr th:only-of-type {\n",
              "        vertical-align: middle;\n",
              "    }\n",
              "\n",
              "    .dataframe tbody tr th {\n",
              "        vertical-align: top;\n",
              "    }\n",
              "\n",
              "    .dataframe thead th {\n",
              "        text-align: right;\n",
              "    }\n",
              "</style>\n",
              "<table border=\"1\" class=\"dataframe\">\n",
              "  <thead>\n",
              "    <tr style=\"text-align: right;\">\n",
              "      <th></th>\n",
              "      <th>timestamp</th>\n",
              "      <th>P_mpp_original</th>\n",
              "      <th>P_pv</th>\n",
              "      <th>P_pv_setpoint</th>\n",
              "      <th>ghi</th>\n",
              "      <th>temp</th>\n",
              "      <th>dispo_pv</th>\n",
              "      <th>wind_speed</th>\n",
              "      <th>Ppv_dc_mpp_th</th>\n",
              "      <th>P_mpp</th>\n",
              "    </tr>\n",
              "  </thead>\n",
              "  <tbody>\n",
              "    <tr>\n",
              "      <th>0</th>\n",
              "      <td>2021-10-31 23:45:00+00:00</td>\n",
              "      <td>0.0</td>\n",
              "      <td>-0.017111</td>\n",
              "      <td>247.16</td>\n",
              "      <td>0.0</td>\n",
              "      <td>20.000000</td>\n",
              "      <td>100.0</td>\n",
              "      <td>0</td>\n",
              "      <td>0.0</td>\n",
              "      <td>0.0</td>\n",
              "    </tr>\n",
              "    <tr>\n",
              "      <th>1</th>\n",
              "      <td>2021-11-01 00:00:00+00:00</td>\n",
              "      <td>0.0</td>\n",
              "      <td>-0.018108</td>\n",
              "      <td>247.16</td>\n",
              "      <td>0.0</td>\n",
              "      <td>20.000000</td>\n",
              "      <td>100.0</td>\n",
              "      <td>0</td>\n",
              "      <td>0.0</td>\n",
              "      <td>0.0</td>\n",
              "    </tr>\n",
              "    <tr>\n",
              "      <th>2</th>\n",
              "      <td>2021-11-01 00:15:00+00:00</td>\n",
              "      <td>0.0</td>\n",
              "      <td>-0.017899</td>\n",
              "      <td>247.16</td>\n",
              "      <td>0.0</td>\n",
              "      <td>20.000000</td>\n",
              "      <td>100.0</td>\n",
              "      <td>0</td>\n",
              "      <td>0.0</td>\n",
              "      <td>0.0</td>\n",
              "    </tr>\n",
              "    <tr>\n",
              "      <th>3</th>\n",
              "      <td>2021-11-01 00:30:00+00:00</td>\n",
              "      <td>0.0</td>\n",
              "      <td>-0.018027</td>\n",
              "      <td>247.16</td>\n",
              "      <td>0.0</td>\n",
              "      <td>19.261574</td>\n",
              "      <td>100.0</td>\n",
              "      <td>0</td>\n",
              "      <td>0.0</td>\n",
              "      <td>0.0</td>\n",
              "    </tr>\n",
              "    <tr>\n",
              "      <th>4</th>\n",
              "      <td>2021-11-01 00:45:00+00:00</td>\n",
              "      <td>0.0</td>\n",
              "      <td>-0.020167</td>\n",
              "      <td>247.16</td>\n",
              "      <td>0.0</td>\n",
              "      <td>19.977593</td>\n",
              "      <td>100.0</td>\n",
              "      <td>0</td>\n",
              "      <td>0.0</td>\n",
              "      <td>0.0</td>\n",
              "    </tr>\n",
              "    <tr>\n",
              "      <th>...</th>\n",
              "      <td>...</td>\n",
              "      <td>...</td>\n",
              "      <td>...</td>\n",
              "      <td>...</td>\n",
              "      <td>...</td>\n",
              "      <td>...</td>\n",
              "      <td>...</td>\n",
              "      <td>...</td>\n",
              "      <td>...</td>\n",
              "      <td>...</td>\n",
              "    </tr>\n",
              "    <tr>\n",
              "      <th>35036</th>\n",
              "      <td>2022-10-31 22:45:00+00:00</td>\n",
              "      <td>0.0</td>\n",
              "      <td>0.021160</td>\n",
              "      <td>247.13</td>\n",
              "      <td>0.0</td>\n",
              "      <td>20.023056</td>\n",
              "      <td>100.0</td>\n",
              "      <td>0</td>\n",
              "      <td>0.0</td>\n",
              "      <td>0.0</td>\n",
              "    </tr>\n",
              "    <tr>\n",
              "      <th>35037</th>\n",
              "      <td>2022-10-31 23:00:00+00:00</td>\n",
              "      <td>0.0</td>\n",
              "      <td>0.018419</td>\n",
              "      <td>247.13</td>\n",
              "      <td>0.0</td>\n",
              "      <td>20.292870</td>\n",
              "      <td>100.0</td>\n",
              "      <td>0</td>\n",
              "      <td>0.0</td>\n",
              "      <td>0.0</td>\n",
              "    </tr>\n",
              "    <tr>\n",
              "      <th>35038</th>\n",
              "      <td>2022-10-31 23:15:00+00:00</td>\n",
              "      <td>0.0</td>\n",
              "      <td>0.014192</td>\n",
              "      <td>247.13</td>\n",
              "      <td>0.0</td>\n",
              "      <td>20.305278</td>\n",
              "      <td>100.0</td>\n",
              "      <td>0</td>\n",
              "      <td>0.0</td>\n",
              "      <td>0.0</td>\n",
              "    </tr>\n",
              "    <tr>\n",
              "      <th>35039</th>\n",
              "      <td>2022-10-31 23:30:00+00:00</td>\n",
              "      <td>0.0</td>\n",
              "      <td>0.014657</td>\n",
              "      <td>247.13</td>\n",
              "      <td>0.0</td>\n",
              "      <td>20.251481</td>\n",
              "      <td>100.0</td>\n",
              "      <td>0</td>\n",
              "      <td>0.0</td>\n",
              "      <td>0.0</td>\n",
              "    </tr>\n",
              "    <tr>\n",
              "      <th>35040</th>\n",
              "      <td>2022-10-31 23:45:00+00:00</td>\n",
              "      <td>0.0</td>\n",
              "      <td>0.011774</td>\n",
              "      <td>247.13</td>\n",
              "      <td>0.0</td>\n",
              "      <td>20.087778</td>\n",
              "      <td>100.0</td>\n",
              "      <td>0</td>\n",
              "      <td>0.0</td>\n",
              "      <td>0.0</td>\n",
              "    </tr>\n",
              "  </tbody>\n",
              "</table>\n",
              "<p>35041 rows × 10 columns</p>\n",
              "</div>\n",
              "      <button class=\"colab-df-convert\" onclick=\"convertToInteractive('df-51472ee9-3be8-4a4d-9cd2-4c1b4c270608')\"\n",
              "              title=\"Convert this dataframe to an interactive table.\"\n",
              "              style=\"display:none;\">\n",
              "        \n",
              "  <svg xmlns=\"http://www.w3.org/2000/svg\" height=\"24px\"viewBox=\"0 0 24 24\"\n",
              "       width=\"24px\">\n",
              "    <path d=\"M0 0h24v24H0V0z\" fill=\"none\"/>\n",
              "    <path d=\"M18.56 5.44l.94 2.06.94-2.06 2.06-.94-2.06-.94-.94-2.06-.94 2.06-2.06.94zm-11 1L8.5 8.5l.94-2.06 2.06-.94-2.06-.94L8.5 2.5l-.94 2.06-2.06.94zm10 10l.94 2.06.94-2.06 2.06-.94-2.06-.94-.94-2.06-.94 2.06-2.06.94z\"/><path d=\"M17.41 7.96l-1.37-1.37c-.4-.4-.92-.59-1.43-.59-.52 0-1.04.2-1.43.59L10.3 9.45l-7.72 7.72c-.78.78-.78 2.05 0 2.83L4 21.41c.39.39.9.59 1.41.59.51 0 1.02-.2 1.41-.59l7.78-7.78 2.81-2.81c.8-.78.8-2.07 0-2.86zM5.41 20L4 18.59l7.72-7.72 1.47 1.35L5.41 20z\"/>\n",
              "  </svg>\n",
              "      </button>\n",
              "      \n",
              "  <style>\n",
              "    .colab-df-container {\n",
              "      display:flex;\n",
              "      flex-wrap:wrap;\n",
              "      gap: 12px;\n",
              "    }\n",
              "\n",
              "    .colab-df-convert {\n",
              "      background-color: #E8F0FE;\n",
              "      border: none;\n",
              "      border-radius: 50%;\n",
              "      cursor: pointer;\n",
              "      display: none;\n",
              "      fill: #1967D2;\n",
              "      height: 32px;\n",
              "      padding: 0 0 0 0;\n",
              "      width: 32px;\n",
              "    }\n",
              "\n",
              "    .colab-df-convert:hover {\n",
              "      background-color: #E2EBFA;\n",
              "      box-shadow: 0px 1px 2px rgba(60, 64, 67, 0.3), 0px 1px 3px 1px rgba(60, 64, 67, 0.15);\n",
              "      fill: #174EA6;\n",
              "    }\n",
              "\n",
              "    [theme=dark] .colab-df-convert {\n",
              "      background-color: #3B4455;\n",
              "      fill: #D2E3FC;\n",
              "    }\n",
              "\n",
              "    [theme=dark] .colab-df-convert:hover {\n",
              "      background-color: #434B5C;\n",
              "      box-shadow: 0px 1px 3px 1px rgba(0, 0, 0, 0.15);\n",
              "      filter: drop-shadow(0px 1px 2px rgba(0, 0, 0, 0.3));\n",
              "      fill: #FFFFFF;\n",
              "    }\n",
              "  </style>\n",
              "\n",
              "      <script>\n",
              "        const buttonEl =\n",
              "          document.querySelector('#df-51472ee9-3be8-4a4d-9cd2-4c1b4c270608 button.colab-df-convert');\n",
              "        buttonEl.style.display =\n",
              "          google.colab.kernel.accessAllowed ? 'block' : 'none';\n",
              "\n",
              "        async function convertToInteractive(key) {\n",
              "          const element = document.querySelector('#df-51472ee9-3be8-4a4d-9cd2-4c1b4c270608');\n",
              "          const dataTable =\n",
              "            await google.colab.kernel.invokeFunction('convertToInteractive',\n",
              "                                                     [key], {});\n",
              "          if (!dataTable) return;\n",
              "\n",
              "          const docLinkHtml = 'Like what you see? Visit the ' +\n",
              "            '<a target=\"_blank\" href=https://colab.research.google.com/notebooks/data_table.ipynb>data table notebook</a>'\n",
              "            + ' to learn more about interactive tables.';\n",
              "          element.innerHTML = '';\n",
              "          dataTable['output_type'] = 'display_data';\n",
              "          await google.colab.output.renderOutput(dataTable, element);\n",
              "          const docLink = document.createElement('div');\n",
              "          docLink.innerHTML = docLinkHtml;\n",
              "          element.appendChild(docLink);\n",
              "        }\n",
              "      </script>\n",
              "    </div>\n",
              "  </div>\n",
              "  "
            ]
          },
          "metadata": {},
          "execution_count": 3
        }
      ]
    },
    {
      "cell_type": "code",
      "source": [
        "df_new = pd.read_csv(\"file_new.csv\", usecols=['P_mpp_original', 'P_mpp'])\n",
        "df_new = pd.read_csv(\"file_new.csv\", usecols=['P_mpp_original', 'P_mpp'])\n",
        "# Round the values in columns 'P_mpp_original' and 'P_mpp' to four decimal places\n",
        "df_new['P_mpp_original'] = df_new['P_mpp_original'].round(4)\n",
        "df_new['P_mpp'] = df_new['P_mpp'].round(4)\n",
        "# Filter out rows where 'P_mpp_original' is 0 or 'P_mpp' is null\n",
        "df_new = df_new[(df_new['P_mpp_original'] != 0) & (df_new['P_mpp'].notnull())]\n",
        "\n",
        "# Reset the index\n",
        "df_new.reset_index(drop=True, inplace=True)\n",
        "# Create a new DataFrame with only the first 1000 rows of df_new\n",
        "df_new_1000 = df_new.head(1000)\n",
        "# Add a new column 'X' to df_new_500 with values ranging from 1 to 1000\n",
        "df_new_1000['X'] = list(range(1, 1001))\n",
        "colors = ['#1f77b4', '#ff7f0e']"
      ],
      "metadata": {
        "colab": {
          "base_uri": "https://localhost:8080/"
        },
        "id": "hB_mr4YraoHQ",
        "outputId": "a8acaf56-6c77-4567-eae7-9d45f3d414fd"
      },
      "execution_count": null,
      "outputs": [
        {
          "output_type": "stream",
          "name": "stderr",
          "text": [
            "<ipython-input-7-3595ab7d064b>:14: SettingWithCopyWarning: \n",
            "A value is trying to be set on a copy of a slice from a DataFrame.\n",
            "Try using .loc[row_indexer,col_indexer] = value instead\n",
            "\n",
            "See the caveats in the documentation: https://pandas.pydata.org/pandas-docs/stable/user_guide/indexing.html#returning-a-view-versus-a-copy\n",
            "  df_new_1000['X'] = list(range(1, 1001))\n"
          ]
        }
      ]
    },
    {
      "cell_type": "code",
      "source": [
        "# Create a line plot of 'P_mpp_original' and 'P_mpp' from df_new_500\n",
        "# using colors blue ('#1f77b4') and orange ('#ff7f0e') respectively\n",
        "ax = df_new_1000.plot(x='X', y='P_mpp_original', kind='line', label='P_mpp_original', color=colors[0])\n",
        "df_new_1000.plot(x='X', y='P_mpp', kind='line', label='P_mpp', color=colors[1], ax=ax)\n",
        "plt.title('Line Plot of P_mpp_original and P_mpp After Training')\n",
        "plt.xlabel('Index')\n",
        "plt.ylabel('Value')\n"
      ],
      "metadata": {
        "colab": {
          "base_uri": "https://localhost:8080/",
          "height": 490
        },
        "id": "cyktfwgpgWsn",
        "outputId": "c28df0d3-b5c6-456f-fb88-c60ce1d81afc"
      },
      "execution_count": null,
      "outputs": [
        {
          "output_type": "execute_result",
          "data": {
            "text/plain": [
              "Text(0, 0.5, 'Value')"
            ]
          },
          "metadata": {},
          "execution_count": 21
        },
        {
          "output_type": "display_data",
          "data": {
            "text/plain": [
              "<Figure size 640x480 with 1 Axes>"
            ],
            "image/png": "[encoded data removed]"
          },
          "metadata": {}
        }
      ]
    },
    {
      "cell_type": "code",
      "source": [
        "from sklearn.metrics import mean_squared_error, mean_absolute_error, r2_score\n"
      ],
      "metadata": {
        "id": "Qfyr_wAgJtuM"
      },
      "execution_count": null,
      "outputs": []
    },
    {
      "cell_type": "code",
      "source": [
        "# Calculate mean squared error (MSE) and root mean squared error (RMSE) after training\n",
        "mse_after_training = np.mean((df_new['P_mpp_original'] - df_new['P_mpp'])**2)\n",
        "print(\"MSE_AFTER_TRAINING = \"+str(mse_after_training))\n",
        "rmse = np.sqrt(mse_after_training)\n",
        "print(\"RMSE_AFTER_TRAINING = \"+str(rmse))\n",
        "r2 = r2_score(df_new['P_mpp_original'], df_new['P_mpp'])\n",
        "print(\"R2 score of the model= \" +str(r2))\n",
        "sd = np.std(df_new['P_mpp_original'] - df_new['P_mpp'])\n",
        "print(\"Standard deviation = \" +str(sd))\n",
        "\n",
        "# Calculate Mean Error (ME)\n",
        "mean_error = np.mean(df_new['P_mpp_original'] - df_new['P_mpp'])\n",
        "print(\"Mean Error (ME): {:.2f}\".format(mean_error))"
      ],
      "metadata": {
        "colab": {
          "base_uri": "https://localhost:8080/"
        },
        "id": "x3M1Bq9mg9QN",
        "outputId": "73b75d6d-10ea-4262-a284-c9ceb77ba536"
      },
      "execution_count": null,
      "outputs": [
        {
          "output_type": "stream",
          "name": "stdout",
          "text": [
            "MSE_AFTER_TRAINING = 4.427433552216992\n",
            "RMSE_AFTER_TRAINING = 2.1041467515876815\n",
            "R2 score of the model= 0.9990984868936275\n",
            "Standard deviation = 1.9533298985750946\n",
            "Mean Error (ME): -0.78\n"
          ]
        }
      ]
    },
    {
      "cell_type": "code",
      "source": [
        "df_old = pd.read_csv(\"file_old.csv\", usecols=['P_mpp_original', 'P_mpp'])\n",
        "df_old['P_mpp_original'] = df_old['P_mpp_original'].round(2)\n",
        "df_old['P_mpp'] = df_old['P_mpp'].round(2)\n",
        "df_old = df_old[(df_old['P_mpp_original'] != 0) & (df_old['P_mpp'].notnull())]\n",
        "\n",
        "# Reset the index\n",
        "df_old.reset_index(drop=True, inplace=True)\n",
        "df_old_500 = df_old.head(1000)\n",
        "df_old_500['X'] = list(range(1, 1001))\n",
        "colors = ['#1f77b4', '#ff7f0e']"
      ],
      "metadata": {
        "colab": {
          "base_uri": "https://localhost:8080/"
        },
        "id": "g7ZHMrsGaoJ0",
        "outputId": "93f24b99-7e37-4ecd-a29d-293e8fccc32b"
      },
      "execution_count": null,
      "outputs": [
        {
          "output_type": "stream",
          "name": "stderr",
          "text": [
            "<ipython-input-6-a3f33101eeff>:9: SettingWithCopyWarning: \n",
            "A value is trying to be set on a copy of a slice from a DataFrame.\n",
            "Try using .loc[row_indexer,col_indexer] = value instead\n",
            "\n",
            "See the caveats in the documentation: https://pandas.pydata.org/pandas-docs/stable/user_guide/indexing.html#returning-a-view-versus-a-copy\n",
            "  df_old_500['X'] = list(range(1, 1001))\n"
          ]
        }
      ]
    },
    {
      "cell_type": "code",
      "source": [
        "ax = df_old_500.plot(x='X', y='P_mpp_original', kind='line', label='P_mpp_original', color=colors[0])\n",
        "df_old_500.plot(x='X', y='P_mpp', kind='line', label='P_mpp', color=colors[1], ax=ax)\n",
        "plt.title('Line Plot of P_mpp_original and P_mpp Before Training')\n",
        "plt.xlabel('Index')\n",
        "plt.ylabel('Value')"
      ],
      "metadata": {
        "id": "GQhBB04LSP95",
        "colab": {
          "base_uri": "https://localhost:8080/",
          "height": 490
        },
        "outputId": "613f75f8-8ef6-48d6-93fc-44ba4188f46f"
      },
      "execution_count": null,
      "outputs": [
        {
          "output_type": "execute_result",
          "data": {
            "text/plain": [
              "Text(0, 0.5, 'Value')"
            ]
          },
          "metadata": {},
          "execution_count": 24
        },
        {
          "output_type": "display_data",
          "data": {
            "text/plain": [
              "<Figure size 640x480 with 1 Axes>"
            ],
            "image/png": "[encoded data removed]"
          },
          "metadata": {}
        }
      ]
    },
    {
      "cell_type": "code",
      "source": [
        "mse_before_training = np.mean((df_old['P_mpp_original'] - df_old['P_mpp'])**2)\n",
        "print(\"MSE_BEFORE_TRAINING = \"+str(mse_before_training))\n",
        "rmse = np.sqrt(mse_before_training)\n",
        "print(\"RMSE_BEFORE_TRAINING = \"+str(rmse))\n",
        "r2 = r2_score(df_old['P_mpp_original'], df_old['P_mpp'])\n",
        "print(\"R2 score of the model= \" +str(r2))\n",
        "sd = np.std(df_old['P_mpp_original'] - df_old['P_mpp'])\n",
        "print(\"Standard deviation = \" +str(sd))\n",
        "\n",
        "# Calculate Mean Error (ME)\n",
        "mean_error = np.mean(df_old['P_mpp_original'] - df_old['P_mpp'])\n",
        "print(\"Mean Error (ME): {:.2f}\".format(mean_error))"
      ],
      "metadata": {
        "colab": {
          "base_uri": "https://localhost:8080/"
        },
        "id": "DYrIPGgpUhO7",
        "outputId": "1881e3a0-7a26-4db3-991f-d81a05a78ce1"
      },
      "execution_count": null,
      "outputs": [
        {
          "output_type": "stream",
          "name": "stdout",
          "text": [
            "MSE_BEFORE_TRAINING = 638.9273351416822\n",
            "RMSE_BEFORE_TRAINING = 25.27701198998177\n",
            "R2 score of the model= 0.8695869915998393\n",
            "Standard deviation = 16.331738628097803\n",
            "Mean Error (ME): 19.29\n"
          ]
        }
      ]
    },
    {
      "cell_type": "code",
      "source": [
        "import matplotlib.pyplot as plt"
      ],
      "metadata": {
        "id": "L7hc6pNeUhRP"
      },
      "execution_count": null,
      "outputs": []
    },
    {
      "cell_type": "code",
      "source": [
        "original_mpp = np.array(df_new['P_mpp_original'])  # Convert to NumPy array if not already\n",
        "predicted_mpp = np.array(df_new['P_mpp'])  # Convert to NumPy array if not already\n",
        "\n",
        "# Calculate the differences and mean of original_mpp and predicted_mpp\n",
        "differences = original_mpp - predicted_mpp\n",
        "mean_mpp = (original_mpp + predicted_mpp) / 2\n",
        "\n",
        "# Create Bland-Altman plot\n",
        "plt.figure(figsize=(8, 6))\n",
        "plt.scatter(mean_mpp, differences, color='blue', alpha=0.5)\n",
        "plt.axhline(y=np.mean(differences), color='red', linestyle='--', label='Mean Difference')\n",
        "plt.axhline(y=np.mean(differences) + 1.96 * np.std(differences), color='green', linestyle='--', label='Upper Limit of Agreement')\n",
        "plt.axhline(y=np.mean(differences) - 1.96 * np.std(differences), color='green', linestyle='--', label='Lower Limit of Agreement')\n",
        "plt.xlabel('Mean MPP')\n",
        "plt.ylabel('Difference (Original MPP - Predicted MPP) After')\n",
        "plt.title('Bland-Altman Plot')\n",
        "plt.legend()\n",
        "plt.show()"
      ],
      "metadata": {
        "id": "6NrUABnxUhTY",
        "colab": {
          "base_uri": "https://localhost:8080/",
          "height": 564
        },
        "outputId": "348aa52c-d4e3-4ddf-d501-7ba0878a5faf"
      },
      "execution_count": null,
      "outputs": [
        {
          "output_type": "display_data",
          "data": {
            "text/plain": [
              "<Figure size 800x600 with 1 Axes>"
            ],
            "image/png": "[encoded data removed]"
          },
          "metadata": {}
        }
      ]
    },
    {
      "cell_type": "code",
      "source": [
        "original_mpp = np.array(df_old['P_mpp_original'])  # Convert to NumPy array if not already\n",
        "predicted_mpp = np.array(df_old['P_mpp'])  # Convert to NumPy array if not already\n",
        "\n",
        "# Calculate the differences and mean of original_mpp and predicted_mpp\n",
        "differences = original_mpp - predicted_mpp\n",
        "mean_mpp = (original_mpp + predicted_mpp) / 2\n",
        "\n",
        "# Create Bland-Altman plot\n",
        "plt.figure(figsize=(8, 6))\n",
        "plt.scatter(mean_mpp, differences, color='blue', alpha=0.5)\n",
        "plt.axhline(y=np.mean(differences), color='red', linestyle='--', label='Mean Difference')\n",
        "plt.axhline(y=np.mean(differences) + 1.96 * np.std(differences), color='green', linestyle='--', label='Upper Limit of Agreement')\n",
        "plt.axhline(y=np.mean(differences) - 1.96 * np.std(differences), color='green', linestyle='--', label='Lower Limit of Agreement')\n",
        "plt.xlabel('Mean MPP')\n",
        "plt.ylabel('Difference (Original MPP - Predicted MPP) Before')\n",
        "plt.title('Bland-Altman Plot')\n",
        "plt.legend()\n",
        "plt.show()"
      ],
      "metadata": {
        "id": "NAni7dmFUhVZ",
        "colab": {
          "base_uri": "https://localhost:8080/",
          "height": 564
        },
        "outputId": "12661e39-d72e-435b-b235-c530598db1a0"
      },
      "execution_count": null,
      "outputs": [
        {
          "output_type": "display_data",
          "data": {
            "text/plain": [
              "<Figure size 800x600 with 1 Axes>"
            ],
            "image/png": "[encoded data removed]"
          },
          "metadata": {}
        }
      ]
    },
    {
      "cell_type": "code",
      "source": [
        "df_old = pd.read_csv(\"file_old.csv\", usecols=['timestamp','temp','ghi','P_mpp_original','P_mpp'])\n",
        "df_new = pd.read_csv(\"file_new.csv\")\n"
      ],
      "metadata": {
        "id": "LKISxzMGvyqA"
      },
      "execution_count": null,
      "outputs": []
    },
    {
      "cell_type": "code",
      "source": [
        "df_old"
      ],
      "metadata": {
        "colab": {
          "base_uri": "https://localhost:8080/",
          "height": 424
        },
        "id": "3WJap8BXvyse",
        "outputId": "4b862c97-2a9d-4bc4-b498-812b0db21473"
      },
      "execution_count": null,
      "outputs": [
        {
          "output_type": "execute_result",
          "data": {
            "text/plain": [
              "                       timestamp  P_mpp_original  ghi       temp  P_mpp\n",
              "0      2021-10-31 23:45:00+00:00             0.0  0.0  20.000000    0.0\n",
              "1      2021-11-01 00:00:00+00:00             0.0  0.0  20.000000    0.0\n",
              "2      2021-11-01 00:15:00+00:00             0.0  0.0  20.000000    0.0\n",
              "3      2021-11-01 00:30:00+00:00             0.0  0.0  19.261574    0.0\n",
              "4      2021-11-01 00:45:00+00:00             0.0  0.0  19.977593    0.0\n",
              "...                          ...             ...  ...        ...    ...\n",
              "35036  2022-10-31 22:45:00+00:00             0.0  0.0  20.023056    0.0\n",
              "35037  2022-10-31 23:00:00+00:00             0.0  0.0  20.292870    0.0\n",
              "35038  2022-10-31 23:15:00+00:00             0.0  0.0  20.305278    0.0\n",
              "35039  2022-10-31 23:30:00+00:00             0.0  0.0  20.251481    0.0\n",
              "35040  2022-10-31 23:45:00+00:00             0.0  0.0  20.087778    0.0\n",
              "\n",
              "[35041 rows x 5 columns]"
            ],
            "text/html": [
              "\n",
              "  <div id=\"df-0d42d1b6-baf4-490d-bbcc-9ec150278ea8\">\n",
              "    <div class=\"colab-df-container\">\n",
              "      <div>\n",
              "<style scoped>\n",
              "    .dataframe tbody tr th:only-of-type {\n",
              "        vertical-align: middle;\n",
              "    }\n",
              "\n",
              "    .dataframe tbody tr th {\n",
              "        vertical-align: top;\n",
              "    }\n",
              "\n",
              "    .dataframe thead th {\n",
              "        text-align: right;\n",
              "    }\n",
              "</style>\n",
              "<table border=\"1\" class=\"dataframe\">\n",
              "  <thead>\n",
              "    <tr style=\"text-align: right;\">\n",
              "      <th></th>\n",
              "      <th>timestamp</th>\n",
              "      <th>P_mpp_original</th>\n",
              "      <th>ghi</th>\n",
              "      <th>temp</th>\n",
              "      <th>P_mpp</th>\n",
              "    </tr>\n",
              "  </thead>\n",
              "  <tbody>\n",
              "    <tr>\n",
              "      <th>0</th>\n",
              "      <td>2021-10-31 23:45:00+00:00</td>\n",
              "      <td>0.0</td>\n",
              "      <td>0.0</td>\n",
              "      <td>20.000000</td>\n",
              "      <td>0.0</td>\n",
              "    </tr>\n",
              "    <tr>\n",
              "      <th>1</th>\n",
              "      <td>2021-11-01 00:00:00+00:00</td>\n",
              "      <td>0.0</td>\n",
              "      <td>0.0</td>\n",
              "      <td>20.000000</td>\n",
              "      <td>0.0</td>\n",
              "    </tr>\n",
              "    <tr>\n",
              "      <th>2</th>\n",
              "      <td>2021-11-01 00:15:00+00:00</td>\n",
              "      <td>0.0</td>\n",
              "      <td>0.0</td>\n",
              "      <td>20.000000</td>\n",
              "      <td>0.0</td>\n",
              "    </tr>\n",
              "    <tr>\n",
              "      <th>3</th>\n",
              "      <td>2021-11-01 00:30:00+00:00</td>\n",
              "      <td>0.0</td>\n",
              "      <td>0.0</td>\n",
              "      <td>19.261574</td>\n",
              "      <td>0.0</td>\n",
              "    </tr>\n",
              "    <tr>\n",
              "      <th>4</th>\n",
              "      <td>2021-11-01 00:45:00+00:00</td>\n",
              "      <td>0.0</td>\n",
              "      <td>0.0</td>\n",
              "      <td>19.977593</td>\n",
              "      <td>0.0</td>\n",
              "    </tr>\n",
              "    <tr>\n",
              "      <th>...</th>\n",
              "      <td>...</td>\n",
              "      <td>...</td>\n",
              "      <td>...</td>\n",
              "      <td>...</td>\n",
              "      <td>...</td>\n",
              "    </tr>\n",
              "    <tr>\n",
              "      <th>35036</th>\n",
              "      <td>2022-10-31 22:45:00+00:00</td>\n",
              "      <td>0.0</td>\n",
              "      <td>0.0</td>\n",
              "      <td>20.023056</td>\n",
              "      <td>0.0</td>\n",
              "    </tr>\n",
              "    <tr>\n",
              "      <th>35037</th>\n",
              "      <td>2022-10-31 23:00:00+00:00</td>\n",
              "      <td>0.0</td>\n",
              "      <td>0.0</td>\n",
              "      <td>20.292870</td>\n",
              "      <td>0.0</td>\n",
              "    </tr>\n",
              "    <tr>\n",
              "      <th>35038</th>\n",
              "      <td>2022-10-31 23:15:00+00:00</td>\n",
              "      <td>0.0</td>\n",
              "      <td>0.0</td>\n",
              "      <td>20.305278</td>\n",
              "      <td>0.0</td>\n",
              "    </tr>\n",
              "    <tr>\n",
              "      <th>35039</th>\n",
              "      <td>2022-10-31 23:30:00+00:00</td>\n",
              "      <td>0.0</td>\n",
              "      <td>0.0</td>\n",
              "      <td>20.251481</td>\n",
              "      <td>0.0</td>\n",
              "    </tr>\n",
              "    <tr>\n",
              "      <th>35040</th>\n",
              "      <td>2022-10-31 23:45:00+00:00</td>\n",
              "      <td>0.0</td>\n",
              "      <td>0.0</td>\n",
              "      <td>20.087778</td>\n",
              "      <td>0.0</td>\n",
              "    </tr>\n",
              "  </tbody>\n",
              "</table>\n",
              "<p>35041 rows × 5 columns</p>\n",
              "</div>\n",
              "      <button class=\"colab-df-convert\" onclick=\"convertToInteractive('df-0d42d1b6-baf4-490d-bbcc-9ec150278ea8')\"\n",
              "              title=\"Convert this dataframe to an interactive table.\"\n",
              "              style=\"display:none;\">\n",
              "        \n",
              "  <svg xmlns=\"http://www.w3.org/2000/svg\" height=\"24px\"viewBox=\"0 0 24 24\"\n",
              "       width=\"24px\">\n",
              "    <path d=\"M0 0h24v24H0V0z\" fill=\"none\"/>\n",
              "    <path d=\"M18.56 5.44l.94 2.06.94-2.06 2.06-.94-2.06-.94-.94-2.06-.94 2.06-2.06.94zm-11 1L8.5 8.5l.94-2.06 2.06-.94-2.06-.94L8.5 2.5l-.94 2.06-2.06.94zm10 10l.94 2.06.94-2.06 2.06-.94-2.06-.94-.94-2.06-.94 2.06-2.06.94z\"/><path d=\"M17.41 7.96l-1.37-1.37c-.4-.4-.92-.59-1.43-.59-.52 0-1.04.2-1.43.59L10.3 9.45l-7.72 7.72c-.78.78-.78 2.05 0 2.83L4 21.41c.39.39.9.59 1.41.59.51 0 1.02-.2 1.41-.59l7.78-7.78 2.81-2.81c.8-.78.8-2.07 0-2.86zM5.41 20L4 18.59l7.72-7.72 1.47 1.35L5.41 20z\"/>\n",
              "  </svg>\n",
              "      </button>\n",
              "      \n",
              "  <style>\n",
              "    .colab-df-container {\n",
              "      display:flex;\n",
              "      flex-wrap:wrap;\n",
              "      gap: 12px;\n",
              "    }\n",
              "\n",
              "    .colab-df-convert {\n",
              "      background-color: #E8F0FE;\n",
              "      border: none;\n",
              "      border-radius: 50%;\n",
              "      cursor: pointer;\n",
              "      display: none;\n",
              "      fill: #1967D2;\n",
              "      height: 32px;\n",
              "      padding: 0 0 0 0;\n",
              "      width: 32px;\n",
              "    }\n",
              "\n",
              "    .colab-df-convert:hover {\n",
              "      background-color: #E2EBFA;\n",
              "      box-shadow: 0px 1px 2px rgba(60, 64, 67, 0.3), 0px 1px 3px 1px rgba(60, 64, 67, 0.15);\n",
              "      fill: #174EA6;\n",
              "    }\n",
              "\n",
              "    [theme=dark] .colab-df-convert {\n",
              "      background-color: #3B4455;\n",
              "      fill: #D2E3FC;\n",
              "    }\n",
              "\n",
              "    [theme=dark] .colab-df-convert:hover {\n",
              "      background-color: #434B5C;\n",
              "      box-shadow: 0px 1px 3px 1px rgba(0, 0, 0, 0.15);\n",
              "      filter: drop-shadow(0px 1px 2px rgba(0, 0, 0, 0.3));\n",
              "      fill: #FFFFFF;\n",
              "    }\n",
              "  </style>\n",
              "\n",
              "      <script>\n",
              "        const buttonEl =\n",
              "          document.querySelector('#df-0d42d1b6-baf4-490d-bbcc-9ec150278ea8 button.colab-df-convert');\n",
              "        buttonEl.style.display =\n",
              "          google.colab.kernel.accessAllowed ? 'block' : 'none';\n",
              "\n",
              "        async function convertToInteractive(key) {\n",
              "          const element = document.querySelector('#df-0d42d1b6-baf4-490d-bbcc-9ec150278ea8');\n",
              "          const dataTable =\n",
              "            await google.colab.kernel.invokeFunction('convertToInteractive',\n",
              "                                                     [key], {});\n",
              "          if (!dataTable) return;\n",
              "\n",
              "          const docLinkHtml = 'Like what you see? Visit the ' +\n",
              "            '<a target=\"_blank\" href=https://colab.research.google.com/notebooks/data_table.ipynb>data table notebook</a>'\n",
              "            + ' to learn more about interactive tables.';\n",
              "          element.innerHTML = '';\n",
              "          dataTable['output_type'] = 'display_data';\n",
              "          await google.colab.output.renderOutput(dataTable, element);\n",
              "          const docLink = document.createElement('div');\n",
              "          docLink.innerHTML = docLinkHtml;\n",
              "          element.appendChild(docLink);\n",
              "        }\n",
              "      </script>\n",
              "    </div>\n",
              "  </div>\n",
              "  "
            ]
          },
          "metadata": {},
          "execution_count": 14
        }
      ]
    },
    {
      "cell_type": "code",
      "source": [
        "df_old[\"P_mpp_measured\"] = df_new[\"P_mpp_original\"]\n",
        "df_old['P_mpp_After_Training'] = df_new[\"P_mpp\"]\n",
        "df_old[\"P_mpp_Before_Training\"] = df_old[\"P_mpp\"]\n",
        "df_old.drop('P_mpp', axis=1, inplace=True)\n",
        "df_old.drop('P_mpp_original', axis=1, inplace=True)\n",
        "df_old.drop('timestamp', axis=1, inplace=True)"
      ],
      "metadata": {
        "id": "74dqyQ5Rvyu1"
      },
      "execution_count": null,
      "outputs": []
    },
    {
      "cell_type": "code",
      "source": [
        "df_old = df_old[(df_old['P_mpp_measured'] != 0) & (df_old['P_mpp_Before_Training'].notnull()) & (df_old['P_mpp_After_Training'].notnull())]\n",
        "\n",
        "# Reset the index\n",
        "df_old.reset_index(drop=True, inplace=True)"
      ],
      "metadata": {
        "id": "QKQTO8ODxytt"
      },
      "execution_count": null,
      "outputs": []
    },
    {
      "cell_type": "code",
      "source": [
        "df_old"
      ],
      "metadata": {
        "colab": {
          "base_uri": "https://localhost:8080/",
          "height": 424
        },
        "id": "DcsU_olQxywF",
        "outputId": "5a7964ba-fb53-4d9a-a371-c4bf9f199a1e"
      },
      "execution_count": null,
      "outputs": [
        {
          "output_type": "execute_result",
          "data": {
            "text/plain": [
              "                       timestamp         ghi       temp  P_mpp_measured  \\\n",
              "0      2021-11-01 05:30:00+00:00    4.645370  19.000000        0.793490   \n",
              "1      2021-11-01 05:45:00+00:00   20.555370  19.717685        4.828358   \n",
              "2      2021-11-01 06:00:00+00:00   43.140648  21.245000       11.278208   \n",
              "3      2021-11-01 06:15:00+00:00   87.428981  23.160926       26.264019   \n",
              "4      2021-11-01 06:30:00+00:00  155.082222  27.855648       48.859759   \n",
              "...                          ...         ...        ...             ...   \n",
              "17930  2022-10-31 17:30:00+00:00   64.455185  27.448889       12.802326   \n",
              "17931  2022-10-31 17:45:00+00:00   39.797778  25.567870        8.160693   \n",
              "17932  2022-10-31 18:00:00+00:00   19.422037  24.226574        3.990201   \n",
              "17933  2022-10-31 18:15:00+00:00    5.276852  23.062130        0.954762   \n",
              "17934  2022-10-31 18:30:00+00:00    0.015556  22.131204        0.000003   \n",
              "\n",
              "       P_mpp_After_Training  P_mpp_Before_Training  \n",
              "0                  0.005930               0.000825  \n",
              "1                  4.718963               3.593240  \n",
              "2                 16.261576              13.054182  \n",
              "3                 30.098135              23.904297  \n",
              "4                 51.986367              40.996592  \n",
              "...                     ...                    ...  \n",
              "17930             13.317314              10.142458  \n",
              "17931              8.333008               6.343349  \n",
              "17932              4.006425               3.048038  \n",
              "17933              1.022938               0.777697  \n",
              "17934              0.000011               0.000001  \n",
              "\n",
              "[17935 rows x 6 columns]"
            ],
            "text/html": [
              "\n",
              "  <div id=\"df-c91db7b7-de35-453a-a6d2-008ce89bbb30\">\n",
              "    <div class=\"colab-df-container\">\n",
              "      <div>\n",
              "<style scoped>\n",
              "    .dataframe tbody tr th:only-of-type {\n",
              "        vertical-align: middle;\n",
              "    }\n",
              "\n",
              "    .dataframe tbody tr th {\n",
              "        vertical-align: top;\n",
              "    }\n",
              "\n",
              "    .dataframe thead th {\n",
              "        text-align: right;\n",
              "    }\n",
              "</style>\n",
              "<table border=\"1\" class=\"dataframe\">\n",
              "  <thead>\n",
              "    <tr style=\"text-align: right;\">\n",
              "      <th></th>\n",
              "      <th>timestamp</th>\n",
              "      <th>ghi</th>\n",
              "      <th>temp</th>\n",
              "      <th>P_mpp_measured</th>\n",
              "      <th>P_mpp_After_Training</th>\n",
              "      <th>P_mpp_Before_Training</th>\n",
              "    </tr>\n",
              "  </thead>\n",
              "  <tbody>\n",
              "    <tr>\n",
              "      <th>0</th>\n",
              "      <td>2021-11-01 05:30:00+00:00</td>\n",
              "      <td>4.645370</td>\n",
              "      <td>19.000000</td>\n",
              "      <td>0.793490</td>\n",
              "      <td>0.005930</td>\n",
              "      <td>0.000825</td>\n",
              "    </tr>\n",
              "    <tr>\n",
              "      <th>1</th>\n",
              "      <td>2021-11-01 05:45:00+00:00</td>\n",
              "      <td>20.555370</td>\n",
              "      <td>19.717685</td>\n",
              "      <td>4.828358</td>\n",
              "      <td>4.718963</td>\n",
              "      <td>3.593240</td>\n",
              "    </tr>\n",
              "    <tr>\n",
              "      <th>2</th>\n",
              "      <td>2021-11-01 06:00:00+00:00</td>\n",
              "      <td>43.140648</td>\n",
              "      <td>21.245000</td>\n",
              "      <td>11.278208</td>\n",
              "      <td>16.261576</td>\n",
              "      <td>13.054182</td>\n",
              "    </tr>\n",
              "    <tr>\n",
              "      <th>3</th>\n",
              "      <td>2021-11-01 06:15:00+00:00</td>\n",
              "      <td>87.428981</td>\n",
              "      <td>23.160926</td>\n",
              "      <td>26.264019</td>\n",
              "      <td>30.098135</td>\n",
              "      <td>23.904297</td>\n",
              "    </tr>\n",
              "    <tr>\n",
              "      <th>4</th>\n",
              "      <td>2021-11-01 06:30:00+00:00</td>\n",
              "      <td>155.082222</td>\n",
              "      <td>27.855648</td>\n",
              "      <td>48.859759</td>\n",
              "      <td>51.986367</td>\n",
              "      <td>40.996592</td>\n",
              "    </tr>\n",
              "    <tr>\n",
              "      <th>...</th>\n",
              "      <td>...</td>\n",
              "      <td>...</td>\n",
              "      <td>...</td>\n",
              "      <td>...</td>\n",
              "      <td>...</td>\n",
              "      <td>...</td>\n",
              "    </tr>\n",
              "    <tr>\n",
              "      <th>17930</th>\n",
              "      <td>2022-10-31 17:30:00+00:00</td>\n",
              "      <td>64.455185</td>\n",
              "      <td>27.448889</td>\n",
              "      <td>12.802326</td>\n",
              "      <td>13.317314</td>\n",
              "      <td>10.142458</td>\n",
              "    </tr>\n",
              "    <tr>\n",
              "      <th>17931</th>\n",
              "      <td>2022-10-31 17:45:00+00:00</td>\n",
              "      <td>39.797778</td>\n",
              "      <td>25.567870</td>\n",
              "      <td>8.160693</td>\n",
              "      <td>8.333008</td>\n",
              "      <td>6.343349</td>\n",
              "    </tr>\n",
              "    <tr>\n",
              "      <th>17932</th>\n",
              "      <td>2022-10-31 18:00:00+00:00</td>\n",
              "      <td>19.422037</td>\n",
              "      <td>24.226574</td>\n",
              "      <td>3.990201</td>\n",
              "      <td>4.006425</td>\n",
              "      <td>3.048038</td>\n",
              "    </tr>\n",
              "    <tr>\n",
              "      <th>17933</th>\n",
              "      <td>2022-10-31 18:15:00+00:00</td>\n",
              "      <td>5.276852</td>\n",
              "      <td>23.062130</td>\n",
              "      <td>0.954762</td>\n",
              "      <td>1.022938</td>\n",
              "      <td>0.777697</td>\n",
              "    </tr>\n",
              "    <tr>\n",
              "      <th>17934</th>\n",
              "      <td>2022-10-31 18:30:00+00:00</td>\n",
              "      <td>0.015556</td>\n",
              "      <td>22.131204</td>\n",
              "      <td>0.000003</td>\n",
              "      <td>0.000011</td>\n",
              "      <td>0.000001</td>\n",
              "    </tr>\n",
              "  </tbody>\n",
              "</table>\n",
              "<p>17935 rows × 6 columns</p>\n",
              "</div>\n",
              "      <button class=\"colab-df-convert\" onclick=\"convertToInteractive('df-c91db7b7-de35-453a-a6d2-008ce89bbb30')\"\n",
              "              title=\"Convert this dataframe to an interactive table.\"\n",
              "              style=\"display:none;\">\n",
              "        \n",
              "  <svg xmlns=\"http://www.w3.org/2000/svg\" height=\"24px\"viewBox=\"0 0 24 24\"\n",
              "       width=\"24px\">\n",
              "    <path d=\"M0 0h24v24H0V0z\" fill=\"none\"/>\n",
              "    <path d=\"M18.56 5.44l.94 2.06.94-2.06 2.06-.94-2.06-.94-.94-2.06-.94 2.06-2.06.94zm-11 1L8.5 8.5l.94-2.06 2.06-.94-2.06-.94L8.5 2.5l-.94 2.06-2.06.94zm10 10l.94 2.06.94-2.06 2.06-.94-2.06-.94-.94-2.06-.94 2.06-2.06.94z\"/><path d=\"M17.41 7.96l-1.37-1.37c-.4-.4-.92-.59-1.43-.59-.52 0-1.04.2-1.43.59L10.3 9.45l-7.72 7.72c-.78.78-.78 2.05 0 2.83L4 21.41c.39.39.9.59 1.41.59.51 0 1.02-.2 1.41-.59l7.78-7.78 2.81-2.81c.8-.78.8-2.07 0-2.86zM5.41 20L4 18.59l7.72-7.72 1.47 1.35L5.41 20z\"/>\n",
              "  </svg>\n",
              "      </button>\n",
              "      \n",
              "  <style>\n",
              "    .colab-df-container {\n",
              "      display:flex;\n",
              "      flex-wrap:wrap;\n",
              "      gap: 12px;\n",
              "    }\n",
              "\n",
              "    .colab-df-convert {\n",
              "      background-color: #E8F0FE;\n",
              "      border: none;\n",
              "      border-radius: 50%;\n",
              "      cursor: pointer;\n",
              "      display: none;\n",
              "      fill: #1967D2;\n",
              "      height: 32px;\n",
              "      padding: 0 0 0 0;\n",
              "      width: 32px;\n",
              "    }\n",
              "\n",
              "    .colab-df-convert:hover {\n",
              "      background-color: #E2EBFA;\n",
              "      box-shadow: 0px 1px 2px rgba(60, 64, 67, 0.3), 0px 1px 3px 1px rgba(60, 64, 67, 0.15);\n",
              "      fill: #174EA6;\n",
              "    }\n",
              "\n",
              "    [theme=dark] .colab-df-convert {\n",
              "      background-color: #3B4455;\n",
              "      fill: #D2E3FC;\n",
              "    }\n",
              "\n",
              "    [theme=dark] .colab-df-convert:hover {\n",
              "      background-color: #434B5C;\n",
              "      box-shadow: 0px 1px 3px 1px rgba(0, 0, 0, 0.15);\n",
              "      filter: drop-shadow(0px 1px 2px rgba(0, 0, 0, 0.3));\n",
              "      fill: #FFFFFF;\n",
              "    }\n",
              "  </style>\n",
              "\n",
              "      <script>\n",
              "        const buttonEl =\n",
              "          document.querySelector('#df-c91db7b7-de35-453a-a6d2-008ce89bbb30 button.colab-df-convert');\n",
              "        buttonEl.style.display =\n",
              "          google.colab.kernel.accessAllowed ? 'block' : 'none';\n",
              "\n",
              "        async function convertToInteractive(key) {\n",
              "          const element = document.querySelector('#df-c91db7b7-de35-453a-a6d2-008ce89bbb30');\n",
              "          const dataTable =\n",
              "            await google.colab.kernel.invokeFunction('convertToInteractive',\n",
              "                                                     [key], {});\n",
              "          if (!dataTable) return;\n",
              "\n",
              "          const docLinkHtml = 'Like what you see? Visit the ' +\n",
              "            '<a target=\"_blank\" href=https://colab.research.google.com/notebooks/data_table.ipynb>data table notebook</a>'\n",
              "            + ' to learn more about interactive tables.';\n",
              "          element.innerHTML = '';\n",
              "          dataTable['output_type'] = 'display_data';\n",
              "          await google.colab.output.renderOutput(dataTable, element);\n",
              "          const docLink = document.createElement('div');\n",
              "          docLink.innerHTML = docLinkHtml;\n",
              "          element.appendChild(docLink);\n",
              "        }\n",
              "      </script>\n",
              "    </div>\n",
              "  </div>\n",
              "  "
            ]
          },
          "metadata": {},
          "execution_count": 23
        }
      ]
    },
    {
      "cell_type": "code",
      "source": [
        "df_old[\"Error_Before_Training\"] = abs(df_old['P_mpp_measured'] - df_old['P_mpp_Before_Training'])\n",
        "df_old[\"Error_After_Training\"] = abs(df_old['P_mpp_measured'] - df_old['P_mpp_After_Training'])\n",
        "\n",
        "df_old"
      ],
      "metadata": {
        "colab": {
          "base_uri": "https://localhost:8080/",
          "height": 424
        },
        "id": "iv5mCAw0xyyu",
        "outputId": "b58859c8-3d45-44d0-bc85-02e2a575fb07"
      },
      "execution_count": null,
      "outputs": [
        {
          "output_type": "execute_result",
          "data": {
            "text/plain": [
              "                       timestamp         ghi       temp  P_mpp_measured  \\\n",
              "0      2021-11-01 05:30:00+00:00    4.645370  19.000000        0.793490   \n",
              "1      2021-11-01 05:45:00+00:00   20.555370  19.717685        4.828358   \n",
              "2      2021-11-01 06:00:00+00:00   43.140648  21.245000       11.278208   \n",
              "3      2021-11-01 06:15:00+00:00   87.428981  23.160926       26.264019   \n",
              "4      2021-11-01 06:30:00+00:00  155.082222  27.855648       48.859759   \n",
              "...                          ...         ...        ...             ...   \n",
              "17930  2022-10-31 17:30:00+00:00   64.455185  27.448889       12.802326   \n",
              "17931  2022-10-31 17:45:00+00:00   39.797778  25.567870        8.160693   \n",
              "17932  2022-10-31 18:00:00+00:00   19.422037  24.226574        3.990201   \n",
              "17933  2022-10-31 18:15:00+00:00    5.276852  23.062130        0.954762   \n",
              "17934  2022-10-31 18:30:00+00:00    0.015556  22.131204        0.000003   \n",
              "\n",
              "       P_mpp_After_Training  P_mpp_Before_Training  Error_Before_Training  \\\n",
              "0                  0.005930               0.000825               0.792665   \n",
              "1                  4.718963               3.593240               1.235118   \n",
              "2                 16.261576              13.054182               1.775974   \n",
              "3                 30.098135              23.904297               2.359722   \n",
              "4                 51.986367              40.996592               7.863167   \n",
              "...                     ...                    ...                    ...   \n",
              "17930             13.317314              10.142458               2.659867   \n",
              "17931              8.333008               6.343349               1.817344   \n",
              "17932              4.006425               3.048038               0.942163   \n",
              "17933              1.022938               0.777697               0.177065   \n",
              "17934              0.000011               0.000001               0.000002   \n",
              "\n",
              "       Error_After_Training  \n",
              "0                  0.787559  \n",
              "1                  0.109395  \n",
              "2                  4.983369  \n",
              "3                  3.834116  \n",
              "4                  3.126608  \n",
              "...                     ...  \n",
              "17930              0.514988  \n",
              "17931              0.172316  \n",
              "17932              0.016224  \n",
              "17933              0.068176  \n",
              "17934              0.000008  \n",
              "\n",
              "[17935 rows x 8 columns]"
            ],
            "text/html": [
              "\n",
              "  <div id=\"df-1bf6e764-b956-4c6a-842a-f3e10f18c0ba\">\n",
              "    <div class=\"colab-df-container\">\n",
              "      <div>\n",
              "<style scoped>\n",
              "    .dataframe tbody tr th:only-of-type {\n",
              "        vertical-align: middle;\n",
              "    }\n",
              "\n",
              "    .dataframe tbody tr th {\n",
              "        vertical-align: top;\n",
              "    }\n",
              "\n",
              "    .dataframe thead th {\n",
              "        text-align: right;\n",
              "    }\n",
              "</style>\n",
              "<table border=\"1\" class=\"dataframe\">\n",
              "  <thead>\n",
              "    <tr style=\"text-align: right;\">\n",
              "      <th></th>\n",
              "      <th>timestamp</th>\n",
              "      <th>ghi</th>\n",
              "      <th>temp</th>\n",
              "      <th>P_mpp_measured</th>\n",
              "      <th>P_mpp_After_Training</th>\n",
              "      <th>P_mpp_Before_Training</th>\n",
              "      <th>Error_Before_Training</th>\n",
              "      <th>Error_After_Training</th>\n",
              "    </tr>\n",
              "  </thead>\n",
              "  <tbody>\n",
              "    <tr>\n",
              "      <th>0</th>\n",
              "      <td>2021-11-01 05:30:00+00:00</td>\n",
              "      <td>4.645370</td>\n",
              "      <td>19.000000</td>\n",
              "      <td>0.793490</td>\n",
              "      <td>0.005930</td>\n",
              "      <td>0.000825</td>\n",
              "      <td>0.792665</td>\n",
              "      <td>0.787559</td>\n",
              "    </tr>\n",
              "    <tr>\n",
              "      <th>1</th>\n",
              "      <td>2021-11-01 05:45:00+00:00</td>\n",
              "      <td>20.555370</td>\n",
              "      <td>19.717685</td>\n",
              "      <td>4.828358</td>\n",
              "      <td>4.718963</td>\n",
              "      <td>3.593240</td>\n",
              "      <td>1.235118</td>\n",
              "      <td>0.109395</td>\n",
              "    </tr>\n",
              "    <tr>\n",
              "      <th>2</th>\n",
              "      <td>2021-11-01 06:00:00+00:00</td>\n",
              "      <td>43.140648</td>\n",
              "      <td>21.245000</td>\n",
              "      <td>11.278208</td>\n",
              "      <td>16.261576</td>\n",
              "      <td>13.054182</td>\n",
              "      <td>1.775974</td>\n",
              "      <td>4.983369</td>\n",
              "    </tr>\n",
              "    <tr>\n",
              "      <th>3</th>\n",
              "      <td>2021-11-01 06:15:00+00:00</td>\n",
              "      <td>87.428981</td>\n",
              "      <td>23.160926</td>\n",
              "      <td>26.264019</td>\n",
              "      <td>30.098135</td>\n",
              "      <td>23.904297</td>\n",
              "      <td>2.359722</td>\n",
              "      <td>3.834116</td>\n",
              "    </tr>\n",
              "    <tr>\n",
              "      <th>4</th>\n",
              "      <td>2021-11-01 06:30:00+00:00</td>\n",
              "      <td>155.082222</td>\n",
              "      <td>27.855648</td>\n",
              "      <td>48.859759</td>\n",
              "      <td>51.986367</td>\n",
              "      <td>40.996592</td>\n",
              "      <td>7.863167</td>\n",
              "      <td>3.126608</td>\n",
              "    </tr>\n",
              "    <tr>\n",
              "      <th>...</th>\n",
              "      <td>...</td>\n",
              "      <td>...</td>\n",
              "      <td>...</td>\n",
              "      <td>...</td>\n",
              "      <td>...</td>\n",
              "      <td>...</td>\n",
              "      <td>...</td>\n",
              "      <td>...</td>\n",
              "    </tr>\n",
              "    <tr>\n",
              "      <th>17930</th>\n",
              "      <td>2022-10-31 17:30:00+00:00</td>\n",
              "      <td>64.455185</td>\n",
              "      <td>27.448889</td>\n",
              "      <td>12.802326</td>\n",
              "      <td>13.317314</td>\n",
              "      <td>10.142458</td>\n",
              "      <td>2.659867</td>\n",
              "      <td>0.514988</td>\n",
              "    </tr>\n",
              "    <tr>\n",
              "      <th>17931</th>\n",
              "      <td>2022-10-31 17:45:00+00:00</td>\n",
              "      <td>39.797778</td>\n",
              "      <td>25.567870</td>\n",
              "      <td>8.160693</td>\n",
              "      <td>8.333008</td>\n",
              "      <td>6.343349</td>\n",
              "      <td>1.817344</td>\n",
              "      <td>0.172316</td>\n",
              "    </tr>\n",
              "    <tr>\n",
              "      <th>17932</th>\n",
              "      <td>2022-10-31 18:00:00+00:00</td>\n",
              "      <td>19.422037</td>\n",
              "      <td>24.226574</td>\n",
              "      <td>3.990201</td>\n",
              "      <td>4.006425</td>\n",
              "      <td>3.048038</td>\n",
              "      <td>0.942163</td>\n",
              "      <td>0.016224</td>\n",
              "    </tr>\n",
              "    <tr>\n",
              "      <th>17933</th>\n",
              "      <td>2022-10-31 18:15:00+00:00</td>\n",
              "      <td>5.276852</td>\n",
              "      <td>23.062130</td>\n",
              "      <td>0.954762</td>\n",
              "      <td>1.022938</td>\n",
              "      <td>0.777697</td>\n",
              "      <td>0.177065</td>\n",
              "      <td>0.068176</td>\n",
              "    </tr>\n",
              "    <tr>\n",
              "      <th>17934</th>\n",
              "      <td>2022-10-31 18:30:00+00:00</td>\n",
              "      <td>0.015556</td>\n",
              "      <td>22.131204</td>\n",
              "      <td>0.000003</td>\n",
              "      <td>0.000011</td>\n",
              "      <td>0.000001</td>\n",
              "      <td>0.000002</td>\n",
              "      <td>0.000008</td>\n",
              "    </tr>\n",
              "  </tbody>\n",
              "</table>\n",
              "<p>17935 rows × 8 columns</p>\n",
              "</div>\n",
              "      <button class=\"colab-df-convert\" onclick=\"convertToInteractive('df-1bf6e764-b956-4c6a-842a-f3e10f18c0ba')\"\n",
              "              title=\"Convert this dataframe to an interactive table.\"\n",
              "              style=\"display:none;\">\n",
              "        \n",
              "  <svg xmlns=\"http://www.w3.org/2000/svg\" height=\"24px\"viewBox=\"0 0 24 24\"\n",
              "       width=\"24px\">\n",
              "    <path d=\"M0 0h24v24H0V0z\" fill=\"none\"/>\n",
              "    <path d=\"M18.56 5.44l.94 2.06.94-2.06 2.06-.94-2.06-.94-.94-2.06-.94 2.06-2.06.94zm-11 1L8.5 8.5l.94-2.06 2.06-.94-2.06-.94L8.5 2.5l-.94 2.06-2.06.94zm10 10l.94 2.06.94-2.06 2.06-.94-2.06-.94-.94-2.06-.94 2.06-2.06.94z\"/><path d=\"M17.41 7.96l-1.37-1.37c-.4-.4-.92-.59-1.43-.59-.52 0-1.04.2-1.43.59L10.3 9.45l-7.72 7.72c-.78.78-.78 2.05 0 2.83L4 21.41c.39.39.9.59 1.41.59.51 0 1.02-.2 1.41-.59l7.78-7.78 2.81-2.81c.8-.78.8-2.07 0-2.86zM5.41 20L4 18.59l7.72-7.72 1.47 1.35L5.41 20z\"/>\n",
              "  </svg>\n",
              "      </button>\n",
              "      \n",
              "  <style>\n",
              "    .colab-df-container {\n",
              "      display:flex;\n",
              "      flex-wrap:wrap;\n",
              "      gap: 12px;\n",
              "    }\n",
              "\n",
              "    .colab-df-convert {\n",
              "      background-color: #E8F0FE;\n",
              "      border: none;\n",
              "      border-radius: 50%;\n",
              "      cursor: pointer;\n",
              "      display: none;\n",
              "      fill: #1967D2;\n",
              "      height: 32px;\n",
              "      padding: 0 0 0 0;\n",
              "      width: 32px;\n",
              "    }\n",
              "\n",
              "    .colab-df-convert:hover {\n",
              "      background-color: #E2EBFA;\n",
              "      box-shadow: 0px 1px 2px rgba(60, 64, 67, 0.3), 0px 1px 3px 1px rgba(60, 64, 67, 0.15);\n",
              "      fill: #174EA6;\n",
              "    }\n",
              "\n",
              "    [theme=dark] .colab-df-convert {\n",
              "      background-color: #3B4455;\n",
              "      fill: #D2E3FC;\n",
              "    }\n",
              "\n",
              "    [theme=dark] .colab-df-convert:hover {\n",
              "      background-color: #434B5C;\n",
              "      box-shadow: 0px 1px 3px 1px rgba(0, 0, 0, 0.15);\n",
              "      filter: drop-shadow(0px 1px 2px rgba(0, 0, 0, 0.3));\n",
              "      fill: #FFFFFF;\n",
              "    }\n",
              "  </style>\n",
              "\n",
              "      <script>\n",
              "        const buttonEl =\n",
              "          document.querySelector('#df-1bf6e764-b956-4c6a-842a-f3e10f18c0ba button.colab-df-convert');\n",
              "        buttonEl.style.display =\n",
              "          google.colab.kernel.accessAllowed ? 'block' : 'none';\n",
              "\n",
              "        async function convertToInteractive(key) {\n",
              "          const element = document.querySelector('#df-1bf6e764-b956-4c6a-842a-f3e10f18c0ba');\n",
              "          const dataTable =\n",
              "            await google.colab.kernel.invokeFunction('convertToInteractive',\n",
              "                                                     [key], {});\n",
              "          if (!dataTable) return;\n",
              "\n",
              "          const docLinkHtml = 'Like what you see? Visit the ' +\n",
              "            '<a target=\"_blank\" href=https://colab.research.google.com/notebooks/data_table.ipynb>data table notebook</a>'\n",
              "            + ' to learn more about interactive tables.';\n",
              "          element.innerHTML = '';\n",
              "          dataTable['output_type'] = 'display_data';\n",
              "          await google.colab.output.renderOutput(dataTable, element);\n",
              "          const docLink = document.createElement('div');\n",
              "          docLink.innerHTML = docLinkHtml;\n",
              "          element.appendChild(docLink);\n",
              "        }\n",
              "      </script>\n",
              "    </div>\n",
              "  </div>\n",
              "  "
            ]
          },
          "metadata": {},
          "execution_count": 24
        }
      ]
    },
    {
      "cell_type": "code",
      "source": [
        "df_old['Relative_Error_After'] = ((df_old['P_mpp_After_Training'] - df_old['P_mpp_original']) / df_old['P_mpp_original']) * 100"
      ],
      "metadata": {
        "colab": {
          "base_uri": "https://localhost:8080/"
        },
        "id": "S-pKlQ4SyqBV",
        "outputId": "33cefe5a-2ff4-40f1-ef7c-c5fbd8b0797e"
      },
      "execution_count": null,
      "outputs": [
        {
          "output_type": "stream",
          "name": "stderr",
          "text": [
            "<ipython-input-28-5e138f11001b>:1: SettingWithCopyWarning: \n",
            "A value is trying to be set on a copy of a slice from a DataFrame.\n",
            "Try using .loc[row_indexer,col_indexer] = value instead\n",
            "\n",
            "See the caveats in the documentation: https://pandas.pydata.org/pandas-docs/stable/user_guide/indexing.html#returning-a-view-versus-a-copy\n",
            "  df_old['Relative_Error_After'] = ((df_old['P_mpp_After_Training'] - df_old['P_mpp_original']) / df_old['P_mpp_original']) * 100\n"
          ]
        }
      ]
    },
    {
      "cell_type": "code",
      "source": [
        "df_old\n"
      ],
      "metadata": {
        "colab": {
          "base_uri": "https://localhost:8080/",
          "height": 424
        },
        "id": "GZMB5L6xzGAQ",
        "outputId": "a10c626d-b8cb-4078-d43c-793c67fd95fb"
      },
      "execution_count": null,
      "outputs": [
        {
          "output_type": "execute_result",
          "data": {
            "text/plain": [
              "                       timestamp         ghi       temp  P_mpp_measured  \\\n",
              "0      2021-11-01 05:30:00+00:00    4.645370  19.000000        0.793490   \n",
              "1      2021-11-01 05:45:00+00:00   20.555370  19.717685        4.828358   \n",
              "2      2021-11-01 06:00:00+00:00   43.140648  21.245000       11.278208   \n",
              "3      2021-11-01 06:15:00+00:00   87.428981  23.160926       26.264019   \n",
              "4      2021-11-01 06:30:00+00:00  155.082222  27.855648       48.859759   \n",
              "...                          ...         ...        ...             ...   \n",
              "17930  2022-10-31 17:30:00+00:00   64.455185  27.448889       12.802326   \n",
              "17931  2022-10-31 17:45:00+00:00   39.797778  25.567870        8.160693   \n",
              "17932  2022-10-31 18:00:00+00:00   19.422037  24.226574        3.990201   \n",
              "17933  2022-10-31 18:15:00+00:00    5.276852  23.062130        0.954762   \n",
              "17934  2022-10-31 18:30:00+00:00    0.015556  22.131204        0.000003   \n",
              "\n",
              "       P_mpp_After_Training  P_mpp_Before_Training  Error_Before_Training  \\\n",
              "0                  0.005930               0.000825               0.792665   \n",
              "1                  4.718963               3.593240               1.235118   \n",
              "2                 16.261576              13.054182               1.775974   \n",
              "3                 30.098135              23.904297               2.359722   \n",
              "4                 51.986367              40.996592               7.863167   \n",
              "...                     ...                    ...                    ...   \n",
              "17930             13.317314              10.142458               2.659867   \n",
              "17931              8.333008               6.343349               1.817344   \n",
              "17932              4.006425               3.048038               0.942163   \n",
              "17933              1.022938               0.777697               0.177065   \n",
              "17934              0.000011               0.000001               0.000002   \n",
              "\n",
              "       Error_After_Training  \n",
              "0                  0.787559  \n",
              "1                  0.109395  \n",
              "2                  4.983369  \n",
              "3                  3.834116  \n",
              "4                  3.126608  \n",
              "...                     ...  \n",
              "17930              0.514988  \n",
              "17931              0.172316  \n",
              "17932              0.016224  \n",
              "17933              0.068176  \n",
              "17934              0.000008  \n",
              "\n",
              "[17935 rows x 8 columns]"
            ],
            "text/html": [
              "\n",
              "  <div id=\"df-dabcd9e7-5cd4-428d-a07e-d10f9648d349\">\n",
              "    <div class=\"colab-df-container\">\n",
              "      <div>\n",
              "<style scoped>\n",
              "    .dataframe tbody tr th:only-of-type {\n",
              "        vertical-align: middle;\n",
              "    }\n",
              "\n",
              "    .dataframe tbody tr th {\n",
              "        vertical-align: top;\n",
              "    }\n",
              "\n",
              "    .dataframe thead th {\n",
              "        text-align: right;\n",
              "    }\n",
              "</style>\n",
              "<table border=\"1\" class=\"dataframe\">\n",
              "  <thead>\n",
              "    <tr style=\"text-align: right;\">\n",
              "      <th></th>\n",
              "      <th>timestamp</th>\n",
              "      <th>ghi</th>\n",
              "      <th>temp</th>\n",
              "      <th>P_mpp_measured</th>\n",
              "      <th>P_mpp_After_Training</th>\n",
              "      <th>P_mpp_Before_Training</th>\n",
              "      <th>Error_Before_Training</th>\n",
              "      <th>Error_After_Training</th>\n",
              "    </tr>\n",
              "  </thead>\n",
              "  <tbody>\n",
              "    <tr>\n",
              "      <th>0</th>\n",
              "      <td>2021-11-01 05:30:00+00:00</td>\n",
              "      <td>4.645370</td>\n",
              "      <td>19.000000</td>\n",
              "      <td>0.793490</td>\n",
              "      <td>0.005930</td>\n",
              "      <td>0.000825</td>\n",
              "      <td>0.792665</td>\n",
              "      <td>0.787559</td>\n",
              "    </tr>\n",
              "    <tr>\n",
              "      <th>1</th>\n",
              "      <td>2021-11-01 05:45:00+00:00</td>\n",
              "      <td>20.555370</td>\n",
              "      <td>19.717685</td>\n",
              "      <td>4.828358</td>\n",
              "      <td>4.718963</td>\n",
              "      <td>3.593240</td>\n",
              "      <td>1.235118</td>\n",
              "      <td>0.109395</td>\n",
              "    </tr>\n",
              "    <tr>\n",
              "      <th>2</th>\n",
              "      <td>2021-11-01 06:00:00+00:00</td>\n",
              "      <td>43.140648</td>\n",
              "      <td>21.245000</td>\n",
              "      <td>11.278208</td>\n",
              "      <td>16.261576</td>\n",
              "      <td>13.054182</td>\n",
              "      <td>1.775974</td>\n",
              "      <td>4.983369</td>\n",
              "    </tr>\n",
              "    <tr>\n",
              "      <th>3</th>\n",
              "      <td>2021-11-01 06:15:00+00:00</td>\n",
              "      <td>87.428981</td>\n",
              "      <td>23.160926</td>\n",
              "      <td>26.264019</td>\n",
              "      <td>30.098135</td>\n",
              "      <td>23.904297</td>\n",
              "      <td>2.359722</td>\n",
              "      <td>3.834116</td>\n",
              "    </tr>\n",
              "    <tr>\n",
              "      <th>4</th>\n",
              "      <td>2021-11-01 06:30:00+00:00</td>\n",
              "      <td>155.082222</td>\n",
              "      <td>27.855648</td>\n",
              "      <td>48.859759</td>\n",
              "      <td>51.986367</td>\n",
              "      <td>40.996592</td>\n",
              "      <td>7.863167</td>\n",
              "      <td>3.126608</td>\n",
              "    </tr>\n",
              "    <tr>\n",
              "      <th>...</th>\n",
              "      <td>...</td>\n",
              "      <td>...</td>\n",
              "      <td>...</td>\n",
              "      <td>...</td>\n",
              "      <td>...</td>\n",
              "      <td>...</td>\n",
              "      <td>...</td>\n",
              "      <td>...</td>\n",
              "    </tr>\n",
              "    <tr>\n",
              "      <th>17930</th>\n",
              "      <td>2022-10-31 17:30:00+00:00</td>\n",
              "      <td>64.455185</td>\n",
              "      <td>27.448889</td>\n",
              "      <td>12.802326</td>\n",
              "      <td>13.317314</td>\n",
              "      <td>10.142458</td>\n",
              "      <td>2.659867</td>\n",
              "      <td>0.514988</td>\n",
              "    </tr>\n",
              "    <tr>\n",
              "      <th>17931</th>\n",
              "      <td>2022-10-31 17:45:00+00:00</td>\n",
              "      <td>39.797778</td>\n",
              "      <td>25.567870</td>\n",
              "      <td>8.160693</td>\n",
              "      <td>8.333008</td>\n",
              "      <td>6.343349</td>\n",
              "      <td>1.817344</td>\n",
              "      <td>0.172316</td>\n",
              "    </tr>\n",
              "    <tr>\n",
              "      <th>17932</th>\n",
              "      <td>2022-10-31 18:00:00+00:00</td>\n",
              "      <td>19.422037</td>\n",
              "      <td>24.226574</td>\n",
              "      <td>3.990201</td>\n",
              "      <td>4.006425</td>\n",
              "      <td>3.048038</td>\n",
              "      <td>0.942163</td>\n",
              "      <td>0.016224</td>\n",
              "    </tr>\n",
              "    <tr>\n",
              "      <th>17933</th>\n",
              "      <td>2022-10-31 18:15:00+00:00</td>\n",
              "      <td>5.276852</td>\n",
              "      <td>23.062130</td>\n",
              "      <td>0.954762</td>\n",
              "      <td>1.022938</td>\n",
              "      <td>0.777697</td>\n",
              "      <td>0.177065</td>\n",
              "      <td>0.068176</td>\n",
              "    </tr>\n",
              "    <tr>\n",
              "      <th>17934</th>\n",
              "      <td>2022-10-31 18:30:00+00:00</td>\n",
              "      <td>0.015556</td>\n",
              "      <td>22.131204</td>\n",
              "      <td>0.000003</td>\n",
              "      <td>0.000011</td>\n",
              "      <td>0.000001</td>\n",
              "      <td>0.000002</td>\n",
              "      <td>0.000008</td>\n",
              "    </tr>\n",
              "  </tbody>\n",
              "</table>\n",
              "<p>17935 rows × 8 columns</p>\n",
              "</div>\n",
              "      <button class=\"colab-df-convert\" onclick=\"convertToInteractive('df-dabcd9e7-5cd4-428d-a07e-d10f9648d349')\"\n",
              "              title=\"Convert this dataframe to an interactive table.\"\n",
              "              style=\"display:none;\">\n",
              "        \n",
              "  <svg xmlns=\"http://www.w3.org/2000/svg\" height=\"24px\"viewBox=\"0 0 24 24\"\n",
              "       width=\"24px\">\n",
              "    <path d=\"M0 0h24v24H0V0z\" fill=\"none\"/>\n",
              "    <path d=\"M18.56 5.44l.94 2.06.94-2.06 2.06-.94-2.06-.94-.94-2.06-.94 2.06-2.06.94zm-11 1L8.5 8.5l.94-2.06 2.06-.94-2.06-.94L8.5 2.5l-.94 2.06-2.06.94zm10 10l.94 2.06.94-2.06 2.06-.94-2.06-.94-.94-2.06-.94 2.06-2.06.94z\"/><path d=\"M17.41 7.96l-1.37-1.37c-.4-.4-.92-.59-1.43-.59-.52 0-1.04.2-1.43.59L10.3 9.45l-7.72 7.72c-.78.78-.78 2.05 0 2.83L4 21.41c.39.39.9.59 1.41.59.51 0 1.02-.2 1.41-.59l7.78-7.78 2.81-2.81c.8-.78.8-2.07 0-2.86zM5.41 20L4 18.59l7.72-7.72 1.47 1.35L5.41 20z\"/>\n",
              "  </svg>\n",
              "      </button>\n",
              "      \n",
              "  <style>\n",
              "    .colab-df-container {\n",
              "      display:flex;\n",
              "      flex-wrap:wrap;\n",
              "      gap: 12px;\n",
              "    }\n",
              "\n",
              "    .colab-df-convert {\n",
              "      background-color: #E8F0FE;\n",
              "      border: none;\n",
              "      border-radius: 50%;\n",
              "      cursor: pointer;\n",
              "      display: none;\n",
              "      fill: #1967D2;\n",
              "      height: 32px;\n",
              "      padding: 0 0 0 0;\n",
              "      width: 32px;\n",
              "    }\n",
              "\n",
              "    .colab-df-convert:hover {\n",
              "      background-color: #E2EBFA;\n",
              "      box-shadow: 0px 1px 2px rgba(60, 64, 67, 0.3), 0px 1px 3px 1px rgba(60, 64, 67, 0.15);\n",
              "      fill: #174EA6;\n",
              "    }\n",
              "\n",
              "    [theme=dark] .colab-df-convert {\n",
              "      background-color: #3B4455;\n",
              "      fill: #D2E3FC;\n",
              "    }\n",
              "\n",
              "    [theme=dark] .colab-df-convert:hover {\n",
              "      background-color: #434B5C;\n",
              "      box-shadow: 0px 1px 3px 1px rgba(0, 0, 0, 0.15);\n",
              "      filter: drop-shadow(0px 1px 2px rgba(0, 0, 0, 0.3));\n",
              "      fill: #FFFFFF;\n",
              "    }\n",
              "  </style>\n",
              "\n",
              "      <script>\n",
              "        const buttonEl =\n",
              "          document.querySelector('#df-dabcd9e7-5cd4-428d-a07e-d10f9648d349 button.colab-df-convert');\n",
              "        buttonEl.style.display =\n",
              "          google.colab.kernel.accessAllowed ? 'block' : 'none';\n",
              "\n",
              "        async function convertToInteractive(key) {\n",
              "          const element = document.querySelector('#df-dabcd9e7-5cd4-428d-a07e-d10f9648d349');\n",
              "          const dataTable =\n",
              "            await google.colab.kernel.invokeFunction('convertToInteractive',\n",
              "                                                     [key], {});\n",
              "          if (!dataTable) return;\n",
              "\n",
              "          const docLinkHtml = 'Like what you see? Visit the ' +\n",
              "            '<a target=\"_blank\" href=https://colab.research.google.com/notebooks/data_table.ipynb>data table notebook</a>'\n",
              "            + ' to learn more about interactive tables.';\n",
              "          element.innerHTML = '';\n",
              "          dataTable['output_type'] = 'display_data';\n",
              "          await google.colab.output.renderOutput(dataTable, element);\n",
              "          const docLink = document.createElement('div');\n",
              "          docLink.innerHTML = docLinkHtml;\n",
              "          element.appendChild(docLink);\n",
              "        }\n",
              "      </script>\n",
              "    </div>\n",
              "  </div>\n",
              "  "
            ]
          },
          "metadata": {},
          "execution_count": 25
        }
      ]
    },
    {
      "cell_type": "code",
      "source": [
        "from google.colab import files\n",
        "\n",
        "# Save DataFrame to a CSV file\n",
        "df_old.to_csv('output.csv', index=False)  # Replace 'output.csv' with the desired output file name\n",
        "\n",
        "# Download CSV file\n",
        "files.download('output.csv')"
      ],
      "metadata": {
        "colab": {
          "base_uri": "https://localhost:8080/",
          "height": 17
        },
        "id": "1GcXrdQe0YwF",
        "outputId": "4f8a49f3-a042-4cf6-844d-e98f6a769752"
      },
      "execution_count": null,
      "outputs": [
        {
          "output_type": "display_data",
          "data": {
            "text/plain": [
              "<IPython.core.display.Javascript object>"
            ],
            "application/javascript": [
              "\n",
              "    async function download(id, filename, size) {\n",
              "      if (!google.colab.kernel.accessAllowed) {\n",
              "        return;\n",
              "      }\n",
              "      const div = document.createElement('div');\n",
              "      const label = document.createElement('label');\n",
              "      label.textContent = `Downloading \"${filename}\": `;\n",
              "      div.appendChild(label);\n",
              "      const progress = document.createElement('progress');\n",
              "      progress.max = size;\n",
              "      div.appendChild(progress);\n",
              "      document.body.appendChild(div);\n",
              "\n",
              "      const buffers = [];\n",
              "      let downloaded = 0;\n",
              "\n",
              "      const channel = await google.colab.kernel.comms.open(id);\n",
              "      // Send a message to notify the kernel that we're ready.\n",
              "      channel.send({})\n",
              "\n",
              "      for await (const message of channel.messages) {\n",
              "        // Send a message to notify the kernel that we're ready.\n",
              "        channel.send({})\n",
              "        if (message.buffers) {\n",
              "          for (const buffer of message.buffers) {\n",
              "            buffers.push(buffer);\n",
              "            downloaded += buffer.byteLength;\n",
              "            progress.value = downloaded;\n",
              "          }\n",
              "        }\n",
              "      }\n",
              "      const blob = new Blob(buffers, {type: 'application/binary'});\n",
              "      const a = document.createElement('a');\n",
              "      a.href = window.URL.createObjectURL(blob);\n",
              "      a.download = filename;\n",
              "      div.appendChild(a);\n",
              "      a.click();\n",
              "      div.remove();\n",
              "    }\n",
              "  "
            ]
          },
          "metadata": {}
        },
        {
          "output_type": "display_data",
          "data": {
            "text/plain": [
              "<IPython.core.display.Javascript object>"
            ],
            "application/javascript": [
              "download(\"download_3710bbfa-c48f-4c3b-a23a-37e46e71a31c\", \"output.csv\", 2398228)"
            ]
          },
          "metadata": {}
        }
      ]
    },
    {
      "cell_type": "code",
      "source": [
        "df_old.drop('timestamp', axis=1, inplace=True)"
      ],
      "metadata": {
        "id": "GuSDCZNK3jLE"
      },
      "execution_count": null,
      "outputs": []
    },
    {
      "cell_type": "code",
      "source": [
        "random_sample = df_old.sample(n=100)"
      ],
      "metadata": {
        "id": "DcVNfYWez9vp"
      },
      "execution_count": null,
      "outputs": []
    },
    {
      "cell_type": "code",
      "source": [
        "random_sample"
      ],
      "metadata": {
        "colab": {
          "base_uri": "https://localhost:8080/",
          "height": 424
        },
        "id": "ZcwOYWXZ0D2a",
        "outputId": "accc8cee-3444-43db-bdb2-b5abcbf04874"
      },
      "execution_count": null,
      "outputs": [
        {
          "output_type": "execute_result",
          "data": {
            "text/plain": [
              "               ghi       temp  P_mpp_measured  P_mpp_After_Training  \\\n",
              "9854    758.204814  25.000000      170.170404            170.823416   \n",
              "3701   1052.978243  25.000000      226.581513            225.512129   \n",
              "6084    690.815835  25.000000      135.330777            136.376119   \n",
              "11521   354.381944  32.752593       79.011532             78.625780   \n",
              "1615      5.894815  24.759259        1.126207              1.137624   \n",
              "...            ...        ...             ...                   ...   \n",
              "17405   165.713426  27.963704       32.668550             34.152855   \n",
              "14112     1.560000  16.388889        0.210108              0.001300   \n",
              "11879   709.615834  25.000000      173.874549            175.905595   \n",
              "16423   295.993426  30.342963       58.355546             60.648767   \n",
              "5694     65.048056  25.318333       18.686222             20.348390   \n",
              "\n",
              "       P_mpp_Before_Training  Error_Before_Training  Error_After_Training  \n",
              "9854              130.143915              40.026489              0.653012  \n",
              "3701              173.106727              53.474785              1.069384  \n",
              "6084              104.345966              30.984811              1.045342  \n",
              "11521              60.167124              18.844407              0.385751  \n",
              "1615                0.864865               0.261341              0.011417  \n",
              "...                      ...                    ...                   ...  \n",
              "17405              26.148563               6.519987              1.484306  \n",
              "14112               0.000180               0.209929              0.208809  \n",
              "11879             134.038010              39.836539              2.031046  \n",
              "16423              46.445605              11.909941              2.293221  \n",
              "5694               16.001292               2.684930              1.662168  \n",
              "\n",
              "[100 rows x 7 columns]"
            ],
            "text/html": [
              "\n",
              "  <div id=\"df-a98a067f-e9c7-4b09-a12d-bd7cd41ec679\">\n",
              "    <div class=\"colab-df-container\">\n",
              "      <div>\n",
              "<style scoped>\n",
              "    .dataframe tbody tr th:only-of-type {\n",
              "        vertical-align: middle;\n",
              "    }\n",
              "\n",
              "    .dataframe tbody tr th {\n",
              "        vertical-align: top;\n",
              "    }\n",
              "\n",
              "    .dataframe thead th {\n",
              "        text-align: right;\n",
              "    }\n",
              "</style>\n",
              "<table border=\"1\" class=\"dataframe\">\n",
              "  <thead>\n",
              "    <tr style=\"text-align: right;\">\n",
              "      <th></th>\n",
              "      <th>ghi</th>\n",
              "      <th>temp</th>\n",
              "      <th>P_mpp_measured</th>\n",
              "      <th>P_mpp_After_Training</th>\n",
              "      <th>P_mpp_Before_Training</th>\n",
              "      <th>Error_Before_Training</th>\n",
              "      <th>Error_After_Training</th>\n",
              "    </tr>\n",
              "  </thead>\n",
              "  <tbody>\n",
              "    <tr>\n",
              "      <th>9854</th>\n",
              "      <td>758.204814</td>\n",
              "      <td>25.000000</td>\n",
              "      <td>170.170404</td>\n",
              "      <td>170.823416</td>\n",
              "      <td>130.143915</td>\n",
              "      <td>40.026489</td>\n",
              "      <td>0.653012</td>\n",
              "    </tr>\n",
              "    <tr>\n",
              "      <th>3701</th>\n",
              "      <td>1052.978243</td>\n",
              "      <td>25.000000</td>\n",
              "      <td>226.581513</td>\n",
              "      <td>225.512129</td>\n",
              "      <td>173.106727</td>\n",
              "      <td>53.474785</td>\n",
              "      <td>1.069384</td>\n",
              "    </tr>\n",
              "    <tr>\n",
              "      <th>6084</th>\n",
              "      <td>690.815835</td>\n",
              "      <td>25.000000</td>\n",
              "      <td>135.330777</td>\n",
              "      <td>136.376119</td>\n",
              "      <td>104.345966</td>\n",
              "      <td>30.984811</td>\n",
              "      <td>1.045342</td>\n",
              "    </tr>\n",
              "    <tr>\n",
              "      <th>11521</th>\n",
              "      <td>354.381944</td>\n",
              "      <td>32.752593</td>\n",
              "      <td>79.011532</td>\n",
              "      <td>78.625780</td>\n",
              "      <td>60.167124</td>\n",
              "      <td>18.844407</td>\n",
              "      <td>0.385751</td>\n",
              "    </tr>\n",
              "    <tr>\n",
              "      <th>1615</th>\n",
              "      <td>5.894815</td>\n",
              "      <td>24.759259</td>\n",
              "      <td>1.126207</td>\n",
              "      <td>1.137624</td>\n",
              "      <td>0.864865</td>\n",
              "      <td>0.261341</td>\n",
              "      <td>0.011417</td>\n",
              "    </tr>\n",
              "    <tr>\n",
              "      <th>...</th>\n",
              "      <td>...</td>\n",
              "      <td>...</td>\n",
              "      <td>...</td>\n",
              "      <td>...</td>\n",
              "      <td>...</td>\n",
              "      <td>...</td>\n",
              "      <td>...</td>\n",
              "    </tr>\n",
              "    <tr>\n",
              "      <th>17405</th>\n",
              "      <td>165.713426</td>\n",
              "      <td>27.963704</td>\n",
              "      <td>32.668550</td>\n",
              "      <td>34.152855</td>\n",
              "      <td>26.148563</td>\n",
              "      <td>6.519987</td>\n",
              "      <td>1.484306</td>\n",
              "    </tr>\n",
              "    <tr>\n",
              "      <th>14112</th>\n",
              "      <td>1.560000</td>\n",
              "      <td>16.388889</td>\n",
              "      <td>0.210108</td>\n",
              "      <td>0.001300</td>\n",
              "      <td>0.000180</td>\n",
              "      <td>0.209929</td>\n",
              "      <td>0.208809</td>\n",
              "    </tr>\n",
              "    <tr>\n",
              "      <th>11879</th>\n",
              "      <td>709.615834</td>\n",
              "      <td>25.000000</td>\n",
              "      <td>173.874549</td>\n",
              "      <td>175.905595</td>\n",
              "      <td>134.038010</td>\n",
              "      <td>39.836539</td>\n",
              "      <td>2.031046</td>\n",
              "    </tr>\n",
              "    <tr>\n",
              "      <th>16423</th>\n",
              "      <td>295.993426</td>\n",
              "      <td>30.342963</td>\n",
              "      <td>58.355546</td>\n",
              "      <td>60.648767</td>\n",
              "      <td>46.445605</td>\n",
              "      <td>11.909941</td>\n",
              "      <td>2.293221</td>\n",
              "    </tr>\n",
              "    <tr>\n",
              "      <th>5694</th>\n",
              "      <td>65.048056</td>\n",
              "      <td>25.318333</td>\n",
              "      <td>18.686222</td>\n",
              "      <td>20.348390</td>\n",
              "      <td>16.001292</td>\n",
              "      <td>2.684930</td>\n",
              "      <td>1.662168</td>\n",
              "    </tr>\n",
              "  </tbody>\n",
              "</table>\n",
              "<p>100 rows × 7 columns</p>\n",
              "</div>\n",
              "      <button class=\"colab-df-convert\" onclick=\"convertToInteractive('df-a98a067f-e9c7-4b09-a12d-bd7cd41ec679')\"\n",
              "              title=\"Convert this dataframe to an interactive table.\"\n",
              "              style=\"display:none;\">\n",
              "        \n",
              "  <svg xmlns=\"http://www.w3.org/2000/svg\" height=\"24px\"viewBox=\"0 0 24 24\"\n",
              "       width=\"24px\">\n",
              "    <path d=\"M0 0h24v24H0V0z\" fill=\"none\"/>\n",
              "    <path d=\"M18.56 5.44l.94 2.06.94-2.06 2.06-.94-2.06-.94-.94-2.06-.94 2.06-2.06.94zm-11 1L8.5 8.5l.94-2.06 2.06-.94-2.06-.94L8.5 2.5l-.94 2.06-2.06.94zm10 10l.94 2.06.94-2.06 2.06-.94-2.06-.94-.94-2.06-.94 2.06-2.06.94z\"/><path d=\"M17.41 7.96l-1.37-1.37c-.4-.4-.92-.59-1.43-.59-.52 0-1.04.2-1.43.59L10.3 9.45l-7.72 7.72c-.78.78-.78 2.05 0 2.83L4 21.41c.39.39.9.59 1.41.59.51 0 1.02-.2 1.41-.59l7.78-7.78 2.81-2.81c.8-.78.8-2.07 0-2.86zM5.41 20L4 18.59l7.72-7.72 1.47 1.35L5.41 20z\"/>\n",
              "  </svg>\n",
              "      </button>\n",
              "      \n",
              "  <style>\n",
              "    .colab-df-container {\n",
              "      display:flex;\n",
              "      flex-wrap:wrap;\n",
              "      gap: 12px;\n",
              "    }\n",
              "\n",
              "    .colab-df-convert {\n",
              "      background-color: #E8F0FE;\n",
              "      border: none;\n",
              "      border-radius: 50%;\n",
              "      cursor: pointer;\n",
              "      display: none;\n",
              "      fill: #1967D2;\n",
              "      height: 32px;\n",
              "      padding: 0 0 0 0;\n",
              "      width: 32px;\n",
              "    }\n",
              "\n",
              "    .colab-df-convert:hover {\n",
              "      background-color: #E2EBFA;\n",
              "      box-shadow: 0px 1px 2px rgba(60, 64, 67, 0.3), 0px 1px 3px 1px rgba(60, 64, 67, 0.15);\n",
              "      fill: #174EA6;\n",
              "    }\n",
              "\n",
              "    [theme=dark] .colab-df-convert {\n",
              "      background-color: #3B4455;\n",
              "      fill: #D2E3FC;\n",
              "    }\n",
              "\n",
              "    [theme=dark] .colab-df-convert:hover {\n",
              "      background-color: #434B5C;\n",
              "      box-shadow: 0px 1px 3px 1px rgba(0, 0, 0, 0.15);\n",
              "      filter: drop-shadow(0px 1px 2px rgba(0, 0, 0, 0.3));\n",
              "      fill: #FFFFFF;\n",
              "    }\n",
              "  </style>\n",
              "\n",
              "      <script>\n",
              "        const buttonEl =\n",
              "          document.querySelector('#df-a98a067f-e9c7-4b09-a12d-bd7cd41ec679 button.colab-df-convert');\n",
              "        buttonEl.style.display =\n",
              "          google.colab.kernel.accessAllowed ? 'block' : 'none';\n",
              "\n",
              "        async function convertToInteractive(key) {\n",
              "          const element = document.querySelector('#df-a98a067f-e9c7-4b09-a12d-bd7cd41ec679');\n",
              "          const dataTable =\n",
              "            await google.colab.kernel.invokeFunction('convertToInteractive',\n",
              "                                                     [key], {});\n",
              "          if (!dataTable) return;\n",
              "\n",
              "          const docLinkHtml = 'Like what you see? Visit the ' +\n",
              "            '<a target=\"_blank\" href=https://colab.research.google.com/notebooks/data_table.ipynb>data table notebook</a>'\n",
              "            + ' to learn more about interactive tables.';\n",
              "          element.innerHTML = '';\n",
              "          dataTable['output_type'] = 'display_data';\n",
              "          await google.colab.output.renderOutput(dataTable, element);\n",
              "          const docLink = document.createElement('div');\n",
              "          docLink.innerHTML = docLinkHtml;\n",
              "          element.appendChild(docLink);\n",
              "        }\n",
              "      </script>\n",
              "    </div>\n",
              "  </div>\n",
              "  "
            ]
          },
          "metadata": {},
          "execution_count": 29
        }
      ]
    },
    {
      "cell_type": "code",
      "source": [
        "random_sample.to_csv('output_final.csv', index=False)  # Replace 'output.csv' with the desired output file name\n",
        "\n",
        "# Download CSV file\n",
        "files.download('output_final.csv')"
      ],
      "metadata": {
        "colab": {
          "base_uri": "https://localhost:8080/",
          "height": 17
        },
        "id": "TbaBGEqk3odb",
        "outputId": "fabb5f40-9b2d-484c-abd7-3e679116fadd"
      },
      "execution_count": null,
      "outputs": [
        {
          "output_type": "display_data",
          "data": {
            "text/plain": [
              "<IPython.core.display.Javascript object>"
            ],
            "application/javascript": [
              "\n",
              "    async function download(id, filename, size) {\n",
              "      if (!google.colab.kernel.accessAllowed) {\n",
              "        return;\n",
              "      }\n",
              "      const div = document.createElement('div');\n",
              "      const label = document.createElement('label');\n",
              "      label.textContent = `Downloading \"${filename}\": `;\n",
              "      div.appendChild(label);\n",
              "      const progress = document.createElement('progress');\n",
              "      progress.max = size;\n",
              "      div.appendChild(progress);\n",
              "      document.body.appendChild(div);\n",
              "\n",
              "      const buffers = [];\n",
              "      let downloaded = 0;\n",
              "\n",
              "      const channel = await google.colab.kernel.comms.open(id);\n",
              "      // Send a message to notify the kernel that we're ready.\n",
              "      channel.send({})\n",
              "\n",
              "      for await (const message of channel.messages) {\n",
              "        // Send a message to notify the kernel that we're ready.\n",
              "        channel.send({})\n",
              "        if (message.buffers) {\n",
              "          for (const buffer of message.buffers) {\n",
              "            buffers.push(buffer);\n",
              "            downloaded += buffer.byteLength;\n",
              "            progress.value = downloaded;\n",
              "          }\n",
              "        }\n",
              "      }\n",
              "      const blob = new Blob(buffers, {type: 'application/binary'});\n",
              "      const a = document.createElement('a');\n",
              "      a.href = window.URL.createObjectURL(blob);\n",
              "      a.download = filename;\n",
              "      div.appendChild(a);\n",
              "      a.click();\n",
              "      div.remove();\n",
              "    }\n",
              "  "
            ]
          },
          "metadata": {}
        },
        {
          "output_type": "display_data",
          "data": {
            "text/plain": [
              "<IPython.core.display.Javascript object>"
            ],
            "application/javascript": [
              "download(\"download_5e027019-376a-41a2-8737-df5f46624d9b\", \"output_final.csv\", 10896)"
            ]
          },
          "metadata": {}
        }
      ]
    }
  ]
}